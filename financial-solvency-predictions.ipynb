{
  "nbformat": 4,
  "nbformat_minor": 0,
  "metadata": {
    "colab": {
      "name": "Copy of Test anh Tan.ipynb",
      "provenance": [],
      "collapsed_sections": [
        "kXqmEDozQYJA",
        "FZqjX5mxSeve",
        "qSMPhy16i5mQ",
        "w-vAjIWOS29m",
        "vUFDP_OCbNb9",
        "r50LT2D005hL",
        "zVpMGLiLTsyn",
        "3T9U_LKmMH9m",
        "wPJxiHh5PFwc",
        "vyG_Sx67NWWb",
        "JHRUrpvRTjVT",
        "dzXhl975Tl3B"
      ],
      "toc_visible": true
    },
    "kernelspec": {
      "name": "python3",
      "display_name": "Python 3"
    },
    "language_info": {
      "name": "python"
    }
  },
  "cells": [
    {
      "cell_type": "markdown",
      "source": [
        "# I. Preparation"
      ],
      "metadata": {
        "id": "Y9p4DKoBUjhH"
      }
    },
    {
      "cell_type": "markdown",
      "source": [
        "## Install & Import packages"
      ],
      "metadata": {
        "id": "zWceQltDSMB4"
      }
    },
    {
      "cell_type": "code",
      "execution_count": null,
      "metadata": {
        "id": "5Ww8RSEunRLO"
      },
      "outputs": [],
      "source": [
        "import numpy as np\n",
        "import pandas as pd\n",
        "from matplotlib import pyplot as plt\n",
        "import seaborn as sns\n",
        "import json\n",
        "import datetime\n",
        "from datetime import datetime as dt\n",
        "from datetime import timezone\n",
        "\n",
        "from sklearn.preprocessing import OneHotEncoder, MinMaxScaler\n",
        "from sklearn.model_selection import train_test_split\n",
        "from sklearn.linear_model import LinearRegression, LogisticRegression\n",
        "from sklearn.metrics import mean_squared_error, r2_score\n",
        "from sklearn.metrics import accuracy_score\n",
        "\n",
        "import tensorflow as tf\n",
        "from tensorflow.keras.models import Sequential\n",
        "from tensorflow.keras.layers import Dense"
      ]
    },
    {
      "cell_type": "markdown",
      "source": [
        "## Load data"
      ],
      "metadata": {
        "id": "Xwizd6EtUOHW"
      }
    },
    {
      "cell_type": "code",
      "source": [
        "from google.colab import drive\n",
        "drive.mount('/content/drive')"
      ],
      "metadata": {
        "colab": {
          "base_uri": "https://localhost:8080/"
        },
        "id": "wIjwmTxtN9qp",
        "outputId": "832a4ece-8331-4624-8ed2-7ea997ba28bc"
      },
      "execution_count": null,
      "outputs": [
        {
          "output_type": "stream",
          "name": "stdout",
          "text": [
            "Mounted at /content/drive\n"
          ]
        }
      ]
    },
    {
      "cell_type": "code",
      "source": [
        "df = pd.read_csv('/content/drive/MyDrive/Colab Notebooks/demographic.csv')"
      ],
      "metadata": {
        "id": "7Qoc02K0niqR",
        "colab": {
          "base_uri": "https://localhost:8080/"
        },
        "outputId": "4695207f-a6d9-4cbd-83c7-7cc5c5c8a5b6"
      },
      "execution_count": null,
      "outputs": [
        {
          "output_type": "stream",
          "name": "stderr",
          "text": [
            "/usr/local/lib/python3.7/dist-packages/IPython/core/interactiveshell.py:2882: DtypeWarning: Columns (21) have mixed types.Specify dtype option on import or set low_memory=False.\n",
            "  exec(code_obj, self.user_global_ns, self.user_ns)\n"
          ]
        }
      ]
    },
    {
      "cell_type": "code",
      "source": [
        "df.head()"
      ],
      "metadata": {
        "id": "rI9cxYWmrmXS",
        "outputId": "ad43dc6c-1a89-40f2-f847-8431e8696a9e",
        "colab": {
          "base_uri": "https://localhost:8080/",
          "height": 456
        }
      },
      "execution_count": null,
      "outputs": [
        {
          "output_type": "execute_result",
          "data": {
            "text/plain": [
              "   index  flag_bad  de_age  de_gender    de_date_joined  de_num_friends  \\\n",
              "0      0         0      26          1  08/04/2018 14:50            2535   \n",
              "1      1         0      22          1  02/01/2018 17:17             685   \n",
              "2      2         1      32          1  01/01/2018 16:39            1765   \n",
              "3      3         0      31          2  04/01/2018 22:36             407   \n",
              "4      4         0      27          1  02/01/2018 18:12            3064   \n",
              "\n",
              "   de_monthly_salary  de_employment_type  de_employment_duration  \\\n",
              "0            3000000                   1                      51   \n",
              "1            4000000                   1                      28   \n",
              "2            7000000                   1                      35   \n",
              "3           20000000                   3                      37   \n",
              "4            3000000                   1                      36   \n",
              "\n",
              "   de_accomodation_type  ...  de_children  ph_total_contacts  \\\n",
              "0                     4  ...            0                 66   \n",
              "1                     4  ...            0                 69   \n",
              "2                     4  ...            2                315   \n",
              "3                     4  ...            2                 84   \n",
              "4                     4  ...            0                  0   \n",
              "\n",
              "                                ph_other_device_info  \\\n",
              "0  {\"device_codename\": \"HM2014817\", \"brand\": \"Xia...   \n",
              "1      {\"device_codename\": \"A1601\", \"brand\": \"OPPO\"}   \n",
              "2      {\"device_codename\": \"A1601\", \"brand\": \"OPPO\"}   \n",
              "3      {\"device_codename\": \"A1601\", \"brand\": \"OPPO\"}   \n",
              "4       {\"device_codename\": \"1609\", \"brand\": \"vivo\"}   \n",
              "\n",
              "                                   ph_call_log_stats ph_country_code  \\\n",
              "0  {\"percent_incoming_nighttime\": 1.83, \"percent_...              id   \n",
              "1  {\"percent_incoming_nighttime\": 0.0, \"percent_o...              id   \n",
              "2  {\"percent_incoming_nighttime\": 6.65, \"percent_...              id   \n",
              "3  {\"percent_incoming_nighttime\": 0.0, \"percent_o...              id   \n",
              "4  {\"percent_incoming_nighttime\": 0.0, \"percent_o...              id   \n",
              "\n",
              "                                         ph_app_list fb_gender      fb_dob  \\\n",
              "0  ['com.google.android.music', 'com.facebook.orc...      male  11/23/1991   \n",
              "1  ['com.google.android.instantapps.supervisor', ...      male  01/20/1995   \n",
              "2  ['com.tencent.ibg.joox', 'com.mrgames.larvaact...      male  10/13/1985   \n",
              "3  ['com.kfit.fave', 'app.bpjs.mobile', 'com.redd...    female  07/27/1986   \n",
              "4  ['com.lenovo.anyshare.gps', 'com.UCMobile.intl...      male  07/05/1990   \n",
              "\n",
              "       fb_last_updated_date        fb_relation  \n",
              "0  2017-12-21T04:38:00+0000            Married  \n",
              "1  2017-11-25T17:23:09+0000                NaN  \n",
              "2  2017-12-23T18:05:57+0000            Married  \n",
              "3  2017-12-05T09:37:19+0000            Married  \n",
              "4  2017-12-03T09:09:48+0000  In a relationship  \n",
              "\n",
              "[5 rows x 22 columns]"
            ],
            "text/html": [
              "\n",
              "  <div id=\"df-205fb9d4-b555-480c-959d-0b6a4a5058fd\">\n",
              "    <div class=\"colab-df-container\">\n",
              "      <div>\n",
              "<style scoped>\n",
              "    .dataframe tbody tr th:only-of-type {\n",
              "        vertical-align: middle;\n",
              "    }\n",
              "\n",
              "    .dataframe tbody tr th {\n",
              "        vertical-align: top;\n",
              "    }\n",
              "\n",
              "    .dataframe thead th {\n",
              "        text-align: right;\n",
              "    }\n",
              "</style>\n",
              "<table border=\"1\" class=\"dataframe\">\n",
              "  <thead>\n",
              "    <tr style=\"text-align: right;\">\n",
              "      <th></th>\n",
              "      <th>index</th>\n",
              "      <th>flag_bad</th>\n",
              "      <th>de_age</th>\n",
              "      <th>de_gender</th>\n",
              "      <th>de_date_joined</th>\n",
              "      <th>de_num_friends</th>\n",
              "      <th>de_monthly_salary</th>\n",
              "      <th>de_employment_type</th>\n",
              "      <th>de_employment_duration</th>\n",
              "      <th>de_accomodation_type</th>\n",
              "      <th>...</th>\n",
              "      <th>de_children</th>\n",
              "      <th>ph_total_contacts</th>\n",
              "      <th>ph_other_device_info</th>\n",
              "      <th>ph_call_log_stats</th>\n",
              "      <th>ph_country_code</th>\n",
              "      <th>ph_app_list</th>\n",
              "      <th>fb_gender</th>\n",
              "      <th>fb_dob</th>\n",
              "      <th>fb_last_updated_date</th>\n",
              "      <th>fb_relation</th>\n",
              "    </tr>\n",
              "  </thead>\n",
              "  <tbody>\n",
              "    <tr>\n",
              "      <th>0</th>\n",
              "      <td>0</td>\n",
              "      <td>0</td>\n",
              "      <td>26</td>\n",
              "      <td>1</td>\n",
              "      <td>08/04/2018 14:50</td>\n",
              "      <td>2535</td>\n",
              "      <td>3000000</td>\n",
              "      <td>1</td>\n",
              "      <td>51</td>\n",
              "      <td>4</td>\n",
              "      <td>...</td>\n",
              "      <td>0</td>\n",
              "      <td>66</td>\n",
              "      <td>{\"device_codename\": \"HM2014817\", \"brand\": \"Xia...</td>\n",
              "      <td>{\"percent_incoming_nighttime\": 1.83, \"percent_...</td>\n",
              "      <td>id</td>\n",
              "      <td>['com.google.android.music', 'com.facebook.orc...</td>\n",
              "      <td>male</td>\n",
              "      <td>11/23/1991</td>\n",
              "      <td>2017-12-21T04:38:00+0000</td>\n",
              "      <td>Married</td>\n",
              "    </tr>\n",
              "    <tr>\n",
              "      <th>1</th>\n",
              "      <td>1</td>\n",
              "      <td>0</td>\n",
              "      <td>22</td>\n",
              "      <td>1</td>\n",
              "      <td>02/01/2018 17:17</td>\n",
              "      <td>685</td>\n",
              "      <td>4000000</td>\n",
              "      <td>1</td>\n",
              "      <td>28</td>\n",
              "      <td>4</td>\n",
              "      <td>...</td>\n",
              "      <td>0</td>\n",
              "      <td>69</td>\n",
              "      <td>{\"device_codename\": \"A1601\", \"brand\": \"OPPO\"}</td>\n",
              "      <td>{\"percent_incoming_nighttime\": 0.0, \"percent_o...</td>\n",
              "      <td>id</td>\n",
              "      <td>['com.google.android.instantapps.supervisor', ...</td>\n",
              "      <td>male</td>\n",
              "      <td>01/20/1995</td>\n",
              "      <td>2017-11-25T17:23:09+0000</td>\n",
              "      <td>NaN</td>\n",
              "    </tr>\n",
              "    <tr>\n",
              "      <th>2</th>\n",
              "      <td>2</td>\n",
              "      <td>1</td>\n",
              "      <td>32</td>\n",
              "      <td>1</td>\n",
              "      <td>01/01/2018 16:39</td>\n",
              "      <td>1765</td>\n",
              "      <td>7000000</td>\n",
              "      <td>1</td>\n",
              "      <td>35</td>\n",
              "      <td>4</td>\n",
              "      <td>...</td>\n",
              "      <td>2</td>\n",
              "      <td>315</td>\n",
              "      <td>{\"device_codename\": \"A1601\", \"brand\": \"OPPO\"}</td>\n",
              "      <td>{\"percent_incoming_nighttime\": 6.65, \"percent_...</td>\n",
              "      <td>id</td>\n",
              "      <td>['com.tencent.ibg.joox', 'com.mrgames.larvaact...</td>\n",
              "      <td>male</td>\n",
              "      <td>10/13/1985</td>\n",
              "      <td>2017-12-23T18:05:57+0000</td>\n",
              "      <td>Married</td>\n",
              "    </tr>\n",
              "    <tr>\n",
              "      <th>3</th>\n",
              "      <td>3</td>\n",
              "      <td>0</td>\n",
              "      <td>31</td>\n",
              "      <td>2</td>\n",
              "      <td>04/01/2018 22:36</td>\n",
              "      <td>407</td>\n",
              "      <td>20000000</td>\n",
              "      <td>3</td>\n",
              "      <td>37</td>\n",
              "      <td>4</td>\n",
              "      <td>...</td>\n",
              "      <td>2</td>\n",
              "      <td>84</td>\n",
              "      <td>{\"device_codename\": \"A1601\", \"brand\": \"OPPO\"}</td>\n",
              "      <td>{\"percent_incoming_nighttime\": 0.0, \"percent_o...</td>\n",
              "      <td>id</td>\n",
              "      <td>['com.kfit.fave', 'app.bpjs.mobile', 'com.redd...</td>\n",
              "      <td>female</td>\n",
              "      <td>07/27/1986</td>\n",
              "      <td>2017-12-05T09:37:19+0000</td>\n",
              "      <td>Married</td>\n",
              "    </tr>\n",
              "    <tr>\n",
              "      <th>4</th>\n",
              "      <td>4</td>\n",
              "      <td>0</td>\n",
              "      <td>27</td>\n",
              "      <td>1</td>\n",
              "      <td>02/01/2018 18:12</td>\n",
              "      <td>3064</td>\n",
              "      <td>3000000</td>\n",
              "      <td>1</td>\n",
              "      <td>36</td>\n",
              "      <td>4</td>\n",
              "      <td>...</td>\n",
              "      <td>0</td>\n",
              "      <td>0</td>\n",
              "      <td>{\"device_codename\": \"1609\", \"brand\": \"vivo\"}</td>\n",
              "      <td>{\"percent_incoming_nighttime\": 0.0, \"percent_o...</td>\n",
              "      <td>id</td>\n",
              "      <td>['com.lenovo.anyshare.gps', 'com.UCMobile.intl...</td>\n",
              "      <td>male</td>\n",
              "      <td>07/05/1990</td>\n",
              "      <td>2017-12-03T09:09:48+0000</td>\n",
              "      <td>In a relationship</td>\n",
              "    </tr>\n",
              "  </tbody>\n",
              "</table>\n",
              "<p>5 rows × 22 columns</p>\n",
              "</div>\n",
              "      <button class=\"colab-df-convert\" onclick=\"convertToInteractive('df-205fb9d4-b555-480c-959d-0b6a4a5058fd')\"\n",
              "              title=\"Convert this dataframe to an interactive table.\"\n",
              "              style=\"display:none;\">\n",
              "        \n",
              "  <svg xmlns=\"http://www.w3.org/2000/svg\" height=\"24px\"viewBox=\"0 0 24 24\"\n",
              "       width=\"24px\">\n",
              "    <path d=\"M0 0h24v24H0V0z\" fill=\"none\"/>\n",
              "    <path d=\"M18.56 5.44l.94 2.06.94-2.06 2.06-.94-2.06-.94-.94-2.06-.94 2.06-2.06.94zm-11 1L8.5 8.5l.94-2.06 2.06-.94-2.06-.94L8.5 2.5l-.94 2.06-2.06.94zm10 10l.94 2.06.94-2.06 2.06-.94-2.06-.94-.94-2.06-.94 2.06-2.06.94z\"/><path d=\"M17.41 7.96l-1.37-1.37c-.4-.4-.92-.59-1.43-.59-.52 0-1.04.2-1.43.59L10.3 9.45l-7.72 7.72c-.78.78-.78 2.05 0 2.83L4 21.41c.39.39.9.59 1.41.59.51 0 1.02-.2 1.41-.59l7.78-7.78 2.81-2.81c.8-.78.8-2.07 0-2.86zM5.41 20L4 18.59l7.72-7.72 1.47 1.35L5.41 20z\"/>\n",
              "  </svg>\n",
              "      </button>\n",
              "      \n",
              "  <style>\n",
              "    .colab-df-container {\n",
              "      display:flex;\n",
              "      flex-wrap:wrap;\n",
              "      gap: 12px;\n",
              "    }\n",
              "\n",
              "    .colab-df-convert {\n",
              "      background-color: #E8F0FE;\n",
              "      border: none;\n",
              "      border-radius: 50%;\n",
              "      cursor: pointer;\n",
              "      display: none;\n",
              "      fill: #1967D2;\n",
              "      height: 32px;\n",
              "      padding: 0 0 0 0;\n",
              "      width: 32px;\n",
              "    }\n",
              "\n",
              "    .colab-df-convert:hover {\n",
              "      background-color: #E2EBFA;\n",
              "      box-shadow: 0px 1px 2px rgba(60, 64, 67, 0.3), 0px 1px 3px 1px rgba(60, 64, 67, 0.15);\n",
              "      fill: #174EA6;\n",
              "    }\n",
              "\n",
              "    [theme=dark] .colab-df-convert {\n",
              "      background-color: #3B4455;\n",
              "      fill: #D2E3FC;\n",
              "    }\n",
              "\n",
              "    [theme=dark] .colab-df-convert:hover {\n",
              "      background-color: #434B5C;\n",
              "      box-shadow: 0px 1px 3px 1px rgba(0, 0, 0, 0.15);\n",
              "      filter: drop-shadow(0px 1px 2px rgba(0, 0, 0, 0.3));\n",
              "      fill: #FFFFFF;\n",
              "    }\n",
              "  </style>\n",
              "\n",
              "      <script>\n",
              "        const buttonEl =\n",
              "          document.querySelector('#df-205fb9d4-b555-480c-959d-0b6a4a5058fd button.colab-df-convert');\n",
              "        buttonEl.style.display =\n",
              "          google.colab.kernel.accessAllowed ? 'block' : 'none';\n",
              "\n",
              "        async function convertToInteractive(key) {\n",
              "          const element = document.querySelector('#df-205fb9d4-b555-480c-959d-0b6a4a5058fd');\n",
              "          const dataTable =\n",
              "            await google.colab.kernel.invokeFunction('convertToInteractive',\n",
              "                                                     [key], {});\n",
              "          if (!dataTable) return;\n",
              "\n",
              "          const docLinkHtml = 'Like what you see? Visit the ' +\n",
              "            '<a target=\"_blank\" href=https://colab.research.google.com/notebooks/data_table.ipynb>data table notebook</a>'\n",
              "            + ' to learn more about interactive tables.';\n",
              "          element.innerHTML = '';\n",
              "          dataTable['output_type'] = 'display_data';\n",
              "          await google.colab.output.renderOutput(dataTable, element);\n",
              "          const docLink = document.createElement('div');\n",
              "          docLink.innerHTML = docLinkHtml;\n",
              "          element.appendChild(docLink);\n",
              "        }\n",
              "      </script>\n",
              "    </div>\n",
              "  </div>\n",
              "  "
            ]
          },
          "metadata": {},
          "execution_count": 4
        }
      ]
    },
    {
      "cell_type": "code",
      "source": [
        "df.columns"
      ],
      "metadata": {
        "colab": {
          "base_uri": "https://localhost:8080/"
        },
        "id": "Xi8hlqqLhghJ",
        "outputId": "02205d19-accf-47aa-9f9e-92f937b8c2dd"
      },
      "execution_count": null,
      "outputs": [
        {
          "output_type": "execute_result",
          "data": {
            "text/plain": [
              "Index(['index', 'flag_bad', 'de_age', 'de_gender', 'de_date_joined',\n",
              "       'de_num_friends', 'de_monthly_salary', 'de_employment_type',\n",
              "       'de_employment_duration', 'de_accomodation_type', 'de_education',\n",
              "       'de_marital_status', 'de_children', 'ph_total_contacts',\n",
              "       'ph_other_device_info', 'ph_call_log_stats', 'ph_country_code',\n",
              "       'ph_app_list', 'fb_gender', 'fb_dob', 'fb_last_updated_date',\n",
              "       'fb_relation'],\n",
              "      dtype='object')"
            ]
          },
          "metadata": {},
          "execution_count": 235
        }
      ]
    },
    {
      "cell_type": "markdown",
      "source": [
        "## Define functions"
      ],
      "metadata": {
        "id": "kXqmEDozQYJA"
      }
    },
    {
      "cell_type": "markdown",
      "source": [
        "### Outlier view"
      ],
      "metadata": {
        "id": "Oj_fnIsP95Mi"
      }
    },
    {
      "cell_type": "code",
      "source": [
        "def outlier_view(df, threshold = 3):\n",
        "  \"\"\"\n",
        "    Take dataframe with continous data type only. Return dataframe with column name, \n",
        "    nb of outliers and percentage with threshold defined (default = 3)\n",
        "  \"\"\"\n",
        "  result = []\n",
        "\n",
        "  for col in df.columns:\n",
        "\n",
        "    std = df[col].std()\n",
        "    mean = df[col].mean()\n",
        "    # df_tmp = df.loc[df[col]].notna() #threshold*std + mean\n",
        "    total = df.loc[(df[col] > (threshold * std + mean)) & (df[col].notna()), col].count()\n",
        "\n",
        "    percent = round(total / len(df), 2)\n",
        "    tmp = [col, total, percent]\n",
        "    result.append(tmp)\n",
        "  df = pd.DataFrame(result, columns=['column', 'total_outliers', 'percent'])\n",
        "  return df"
      ],
      "metadata": {
        "id": "qNygb69U94Ab"
      },
      "execution_count": null,
      "outputs": []
    },
    {
      "cell_type": "markdown",
      "source": [
        "### Remove outliers"
      ],
      "metadata": {
        "id": "5d_I2x1fAz6s"
      }
    },
    {
      "cell_type": "code",
      "source": [
        "def outlier_remove(df, columns, threshold = 3):\n",
        "  \"\"\"\n",
        "    Input: dataframe, columns with continous values only\n",
        "    Output: dataframe with outliers removed (threshold = 3 optional), missing rows are kept\n",
        "  \"\"\"\n",
        "  for col in num_cols:\n",
        "    type_ = str(df[col].dtype)\n",
        "    if type in ['object', 'category']:\n",
        "      print(f'Columns {col} contains categorical values')\n",
        "      break\n",
        "    else:\n",
        "      std = df[col].std()\n",
        "      mean = df[col].mean()\n",
        "      df = df.loc[(df[col] <= (threshold * std + mean)) | (df[col].isnull()), :]\n",
        "  return df"
      ],
      "metadata": {
        "id": "1K0yPCdUA5TD"
      },
      "execution_count": null,
      "outputs": []
    },
    {
      "cell_type": "markdown",
      "source": [
        "### Parse json data"
      ],
      "metadata": {
        "id": "PctNAQVLT-ZW"
      }
    },
    {
      "cell_type": "code",
      "source": [
        "def parse_json_columns(df, cols):\n",
        "  \"\"\"\n",
        "    Function will parse data in json from columns and concat to input dataframe\n",
        "\n",
        "    df: dataframe input (contains the columns)\n",
        "    columns: array of columns containing data in json\n",
        "    output: df after concaternation\n",
        "  \"\"\"\n",
        "  \n",
        "  for j_column in cols:\n",
        "\n",
        "    # Get first non-empty row:\n",
        "    not_null_row = df.loc[df[j_column].notnull(), j_column][0]\n",
        "\n",
        "    # Get keys\n",
        "    new_cols = json.loads(not_null_row).keys()\n",
        "\n",
        "    # Create new json object for null values replacement\n",
        "    value_replace = {} #dict\n",
        "\n",
        "    for col in new_cols:\n",
        "      data = None\n",
        "      value_replace[col] = data\n",
        "\n",
        "    value_replace = json.dumps(value_replace) #json\n",
        "\n",
        "    # Replace null values in j_column\n",
        "    df.loc[df[j_column].isnull(), j_column] = value_replace\n",
        "\n",
        "    # # Create new dictionary stores all values in this columns\n",
        "    # new_cols_dict_ = {}\n",
        "    # for col in new_cols:\n",
        "    #   data = []\n",
        "    #   new_cols_dict_[col] = data\n",
        "\n",
        "    # for row_ in df[j_column]:\n",
        "    #   # print(row_)\n",
        "    #   row_ = json.loads(row_) # type dict\n",
        "\n",
        "    #   for item in row_.keys():\n",
        "    #     new_cols_dict_[item].append(row_[item])\n",
        "    \n",
        "    # Create new dataframe from json\n",
        "    df_unfolded = pd.json_normalize(df[j_column].apply(json.loads))\n",
        "\n",
        "    # Drop column `ph_call_log_stats`\n",
        "    df.drop(j_column, axis=1, inplace=True)\n",
        "\n",
        "    # # Concat 2 dataframes\n",
        "    df = pd.concat([df, df_unfolded], axis = 1)\n",
        "    \n",
        "  return df\n"
      ],
      "metadata": {
        "id": "wOttuDDgauXz"
      },
      "execution_count": null,
      "outputs": []
    },
    {
      "cell_type": "markdown",
      "source": [
        "### Get number of continous and categorical features"
      ],
      "metadata": {
        "id": "YCAb3KikWb8O"
      }
    },
    {
      "cell_type": "code",
      "source": [
        "def group_columns_by_dtype(df):\n",
        "  \"\"\"\n",
        "    Iterate through all columns from dataframe `df`, count the number of categorical columns and continuous columns\n",
        "    df: dataframe\n",
        "    output: tuple\n",
        "  \"\"\"\n",
        "  # Get dictionary of columns and dtypes\n",
        "  dict_ = df.dtypes.to_dict()\n",
        "  result = {}\n",
        "  categorical = []\n",
        "  continous = []\n",
        "  # Categorical features = object, category\n",
        "  # Continous features = int, float\n",
        "  for k, v in dict_.items():\n",
        "    if str(v) in ['object', 'category']:\n",
        "      categorical.append(k)\n",
        "    else:\n",
        "      continous.append(k)\n",
        "\n",
        "  result['categorical'] = categorical\n",
        "  result['continous'] = continous\n",
        "\n",
        "  return result"
      ],
      "metadata": {
        "id": "dG1HvpQyWqMP"
      },
      "execution_count": null,
      "outputs": []
    },
    {
      "cell_type": "markdown",
      "source": [
        "### Convert timestamp to days"
      ],
      "metadata": {
        "id": "qBpJTHh7x_VW"
      }
    },
    {
      "cell_type": "code",
      "source": [
        "def get_days(timestamp):\n",
        "  day = timestamp.days\n",
        "  return day"
      ],
      "metadata": {
        "id": "h5C8QpXjyB0_"
      },
      "execution_count": null,
      "outputs": []
    },
    {
      "cell_type": "markdown",
      "source": [
        "## Unfold json data columns"
      ],
      "metadata": {
        "id": "FZqjX5mxSeve"
      }
    },
    {
      "cell_type": "markdown",
      "source": [
        "Unfold json data from `ph_call_log_stats`, `ph_other_device_info` columns\n"
      ],
      "metadata": {
        "id": "cwbIHtBRHRsG"
      }
    },
    {
      "cell_type": "code",
      "source": [
        "# Columns with data in json\n",
        "cols = ['ph_other_device_info', 'ph_call_log_stats']\n",
        "# Unfold\n",
        "df = parse_json_columns(df, cols)\n",
        "print(f'Number of columns: {len(df.columns)}')"
      ],
      "metadata": {
        "colab": {
          "base_uri": "https://localhost:8080/"
        },
        "id": "I4V7VnTUhZfa",
        "outputId": "33276a24-5d7e-4607-98f2-a12f847a3dc8"
      },
      "execution_count": null,
      "outputs": [
        {
          "output_type": "stream",
          "name": "stdout",
          "text": [
            "Number of columns: 32\n"
          ]
        }
      ]
    },
    {
      "cell_type": "markdown",
      "source": [
        "# II. Exploratory Data Analysis"
      ],
      "metadata": {
        "id": "qSMPhy16i5mQ"
      }
    },
    {
      "cell_type": "markdown",
      "source": [
        "## Column data types"
      ],
      "metadata": {
        "id": "w-vAjIWOS29m"
      }
    },
    {
      "cell_type": "code",
      "source": [
        "# Number of columns in each dtype\n",
        "df.dtypes.value_counts()"
      ],
      "metadata": {
        "colab": {
          "base_uri": "https://localhost:8080/"
        },
        "id": "QmoiQuphTEg-",
        "outputId": "27dcdfd8-e4b6-4964-b5f9-766f993bdb0b"
      },
      "execution_count": null,
      "outputs": [
        {
          "output_type": "execute_result",
          "data": {
            "text/plain": [
              "int64      13\n",
              "float64    10\n",
              "object      9\n",
              "dtype: int64"
            ]
          },
          "metadata": {},
          "execution_count": 242
        }
      ]
    },
    {
      "cell_type": "code",
      "source": [
        "# Group columns by their dtype\n",
        "tmp = group_columns_by_dtype(df)\n",
        "\n",
        "cate_cols = tmp['categorical']\n",
        "num_cols = tmp['continous']\n",
        "\n",
        "print(f'{len(cate_cols)} categorical columns - {len(num_cols)} continous columns')"
      ],
      "metadata": {
        "colab": {
          "base_uri": "https://localhost:8080/"
        },
        "id": "i8MpedUpVdnh",
        "outputId": "80add732-8997-42da-ad94-e2d65d9d772b"
      },
      "execution_count": null,
      "outputs": [
        {
          "output_type": "stream",
          "name": "stdout",
          "text": [
            "9 categorical columns - 23 continous columns\n"
          ]
        }
      ]
    },
    {
      "cell_type": "code",
      "source": [
        "# Number of unique class in each continous column\n",
        "df[num_cols].apply(pd.Series.nunique, axis = 0)\n"
      ],
      "metadata": {
        "colab": {
          "base_uri": "https://localhost:8080/"
        },
        "id": "lEH-d3K00t7t",
        "outputId": "a3e689fa-1288-4db2-93a0-381d10dc9301"
      },
      "execution_count": null,
      "outputs": [
        {
          "output_type": "execute_result",
          "data": {
            "text/plain": [
              "index                          41022\n",
              "flag_bad                           2\n",
              "de_age                            50\n",
              "de_gender                          2\n",
              "de_num_friends                  4531\n",
              "de_monthly_salary                 40\n",
              "de_employment_type                 4\n",
              "de_employment_duration            52\n",
              "de_accomodation_type               1\n",
              "de_education                       5\n",
              "de_marital_status                  4\n",
              "de_children                        5\n",
              "ph_total_contacts               1588\n",
              "percent_incoming_nighttime      1983\n",
              "percent_outgoing_daytime        5927\n",
              "duration_incoming_daytime       8087\n",
              "duration_outgoing_daytime       8080\n",
              "percent_incoming_daytime        4286\n",
              "percent_other_calls             5186\n",
              "duration_outgoing_nighttime     5288\n",
              "percent_outgoing_nighttime      3754\n",
              "total_calls                      826\n",
              "duration_incoming_nighttime     4643\n",
              "dtype: int64"
            ]
          },
          "metadata": {},
          "execution_count": 244
        }
      ]
    },
    {
      "cell_type": "code",
      "source": [
        "# Let's move columns with less than 10 unique classes to categorical group\n",
        "dict_tmp = df[num_cols].apply(pd.Series.nunique, axis = 0).to_dict()\n",
        "for k,v in dict_tmp.items():\n",
        "  if v < 10:\n",
        "    num_cols.remove(k)\n",
        "    cate_cols.append(k)"
      ],
      "metadata": {
        "id": "WiQTHfAS0uRb"
      },
      "execution_count": null,
      "outputs": []
    },
    {
      "cell_type": "markdown",
      "source": [
        "## Categorical data"
      ],
      "metadata": {
        "id": "vUFDP_OCbNb9"
      }
    },
    {
      "cell_type": "markdown",
      "source": [
        "### Over view"
      ],
      "metadata": {
        "id": "DHepMZhRy4MG"
      }
    },
    {
      "cell_type": "code",
      "source": [
        "# Categorical columns\n",
        "df[cate_cols].head()"
      ],
      "metadata": {
        "colab": {
          "base_uri": "https://localhost:8080/"
        },
        "id": "_ZuuEvtabTz2",
        "outputId": "0c158964-3f34-48a3-9cda-e1b8482cc254"
      },
      "execution_count": null,
      "outputs": [
        {
          "output_type": "execute_result",
          "data": {
            "text/plain": [
              "     de_date_joined ph_country_code  \\\n",
              "0  08/04/2018 14:50              id   \n",
              "1  02/01/2018 17:17              id   \n",
              "2  01/01/2018 16:39              id   \n",
              "3  04/01/2018 22:36              id   \n",
              "4  02/01/2018 18:12              id   \n",
              "\n",
              "                                         ph_app_list fb_gender      fb_dob  \\\n",
              "0  ['com.google.android.music', 'com.facebook.orc...      male  11/23/1991   \n",
              "1  ['com.google.android.instantapps.supervisor', ...      male  01/20/1995   \n",
              "2  ['com.tencent.ibg.joox', 'com.mrgames.larvaact...      male  10/13/1985   \n",
              "3  ['com.kfit.fave', 'app.bpjs.mobile', 'com.redd...    female  07/27/1986   \n",
              "4  ['com.lenovo.anyshare.gps', 'com.UCMobile.intl...      male  07/05/1990   \n",
              "\n",
              "       fb_last_updated_date        fb_relation device_codename   brand  \\\n",
              "0  2017-12-21T04:38:00+0000            Married       HM2014817  Xiaomi   \n",
              "1  2017-11-25T17:23:09+0000                NaN           A1601    OPPO   \n",
              "2  2017-12-23T18:05:57+0000            Married           A1601    OPPO   \n",
              "3  2017-12-05T09:37:19+0000            Married           A1601    OPPO   \n",
              "4  2017-12-03T09:09:48+0000  In a relationship            1609    vivo   \n",
              "\n",
              "   flag_bad  de_gender  de_employment_type  de_accomodation_type  \\\n",
              "0         0          1                   1                     4   \n",
              "1         0          1                   1                     4   \n",
              "2         1          1                   1                     4   \n",
              "3         0          2                   3                     4   \n",
              "4         0          1                   1                     4   \n",
              "\n",
              "   de_education  de_marital_status  de_children  \n",
              "0             2                  2            0  \n",
              "1             4                  1            0  \n",
              "2             4                  2            2  \n",
              "3             3                  2            2  \n",
              "4             3                  1            0  "
            ],
            "text/html": [
              "\n",
              "  <div id=\"df-a7bba985-e81e-4df2-b3d8-c93edf8fd208\">\n",
              "    <div class=\"colab-df-container\">\n",
              "      <div>\n",
              "<style scoped>\n",
              "    .dataframe tbody tr th:only-of-type {\n",
              "        vertical-align: middle;\n",
              "    }\n",
              "\n",
              "    .dataframe tbody tr th {\n",
              "        vertical-align: top;\n",
              "    }\n",
              "\n",
              "    .dataframe thead th {\n",
              "        text-align: right;\n",
              "    }\n",
              "</style>\n",
              "<table border=\"1\" class=\"dataframe\">\n",
              "  <thead>\n",
              "    <tr style=\"text-align: right;\">\n",
              "      <th></th>\n",
              "      <th>de_date_joined</th>\n",
              "      <th>ph_country_code</th>\n",
              "      <th>ph_app_list</th>\n",
              "      <th>fb_gender</th>\n",
              "      <th>fb_dob</th>\n",
              "      <th>fb_last_updated_date</th>\n",
              "      <th>fb_relation</th>\n",
              "      <th>device_codename</th>\n",
              "      <th>brand</th>\n",
              "      <th>flag_bad</th>\n",
              "      <th>de_gender</th>\n",
              "      <th>de_employment_type</th>\n",
              "      <th>de_accomodation_type</th>\n",
              "      <th>de_education</th>\n",
              "      <th>de_marital_status</th>\n",
              "      <th>de_children</th>\n",
              "    </tr>\n",
              "  </thead>\n",
              "  <tbody>\n",
              "    <tr>\n",
              "      <th>0</th>\n",
              "      <td>08/04/2018 14:50</td>\n",
              "      <td>id</td>\n",
              "      <td>['com.google.android.music', 'com.facebook.orc...</td>\n",
              "      <td>male</td>\n",
              "      <td>11/23/1991</td>\n",
              "      <td>2017-12-21T04:38:00+0000</td>\n",
              "      <td>Married</td>\n",
              "      <td>HM2014817</td>\n",
              "      <td>Xiaomi</td>\n",
              "      <td>0</td>\n",
              "      <td>1</td>\n",
              "      <td>1</td>\n",
              "      <td>4</td>\n",
              "      <td>2</td>\n",
              "      <td>2</td>\n",
              "      <td>0</td>\n",
              "    </tr>\n",
              "    <tr>\n",
              "      <th>1</th>\n",
              "      <td>02/01/2018 17:17</td>\n",
              "      <td>id</td>\n",
              "      <td>['com.google.android.instantapps.supervisor', ...</td>\n",
              "      <td>male</td>\n",
              "      <td>01/20/1995</td>\n",
              "      <td>2017-11-25T17:23:09+0000</td>\n",
              "      <td>NaN</td>\n",
              "      <td>A1601</td>\n",
              "      <td>OPPO</td>\n",
              "      <td>0</td>\n",
              "      <td>1</td>\n",
              "      <td>1</td>\n",
              "      <td>4</td>\n",
              "      <td>4</td>\n",
              "      <td>1</td>\n",
              "      <td>0</td>\n",
              "    </tr>\n",
              "    <tr>\n",
              "      <th>2</th>\n",
              "      <td>01/01/2018 16:39</td>\n",
              "      <td>id</td>\n",
              "      <td>['com.tencent.ibg.joox', 'com.mrgames.larvaact...</td>\n",
              "      <td>male</td>\n",
              "      <td>10/13/1985</td>\n",
              "      <td>2017-12-23T18:05:57+0000</td>\n",
              "      <td>Married</td>\n",
              "      <td>A1601</td>\n",
              "      <td>OPPO</td>\n",
              "      <td>1</td>\n",
              "      <td>1</td>\n",
              "      <td>1</td>\n",
              "      <td>4</td>\n",
              "      <td>4</td>\n",
              "      <td>2</td>\n",
              "      <td>2</td>\n",
              "    </tr>\n",
              "    <tr>\n",
              "      <th>3</th>\n",
              "      <td>04/01/2018 22:36</td>\n",
              "      <td>id</td>\n",
              "      <td>['com.kfit.fave', 'app.bpjs.mobile', 'com.redd...</td>\n",
              "      <td>female</td>\n",
              "      <td>07/27/1986</td>\n",
              "      <td>2017-12-05T09:37:19+0000</td>\n",
              "      <td>Married</td>\n",
              "      <td>A1601</td>\n",
              "      <td>OPPO</td>\n",
              "      <td>0</td>\n",
              "      <td>2</td>\n",
              "      <td>3</td>\n",
              "      <td>4</td>\n",
              "      <td>3</td>\n",
              "      <td>2</td>\n",
              "      <td>2</td>\n",
              "    </tr>\n",
              "    <tr>\n",
              "      <th>4</th>\n",
              "      <td>02/01/2018 18:12</td>\n",
              "      <td>id</td>\n",
              "      <td>['com.lenovo.anyshare.gps', 'com.UCMobile.intl...</td>\n",
              "      <td>male</td>\n",
              "      <td>07/05/1990</td>\n",
              "      <td>2017-12-03T09:09:48+0000</td>\n",
              "      <td>In a relationship</td>\n",
              "      <td>1609</td>\n",
              "      <td>vivo</td>\n",
              "      <td>0</td>\n",
              "      <td>1</td>\n",
              "      <td>1</td>\n",
              "      <td>4</td>\n",
              "      <td>3</td>\n",
              "      <td>1</td>\n",
              "      <td>0</td>\n",
              "    </tr>\n",
              "  </tbody>\n",
              "</table>\n",
              "</div>\n",
              "      <button class=\"colab-df-convert\" onclick=\"convertToInteractive('df-a7bba985-e81e-4df2-b3d8-c93edf8fd208')\"\n",
              "              title=\"Convert this dataframe to an interactive table.\"\n",
              "              style=\"display:none;\">\n",
              "        \n",
              "  <svg xmlns=\"http://www.w3.org/2000/svg\" height=\"24px\"viewBox=\"0 0 24 24\"\n",
              "       width=\"24px\">\n",
              "    <path d=\"M0 0h24v24H0V0z\" fill=\"none\"/>\n",
              "    <path d=\"M18.56 5.44l.94 2.06.94-2.06 2.06-.94-2.06-.94-.94-2.06-.94 2.06-2.06.94zm-11 1L8.5 8.5l.94-2.06 2.06-.94-2.06-.94L8.5 2.5l-.94 2.06-2.06.94zm10 10l.94 2.06.94-2.06 2.06-.94-2.06-.94-.94-2.06-.94 2.06-2.06.94z\"/><path d=\"M17.41 7.96l-1.37-1.37c-.4-.4-.92-.59-1.43-.59-.52 0-1.04.2-1.43.59L10.3 9.45l-7.72 7.72c-.78.78-.78 2.05 0 2.83L4 21.41c.39.39.9.59 1.41.59.51 0 1.02-.2 1.41-.59l7.78-7.78 2.81-2.81c.8-.78.8-2.07 0-2.86zM5.41 20L4 18.59l7.72-7.72 1.47 1.35L5.41 20z\"/>\n",
              "  </svg>\n",
              "      </button>\n",
              "      \n",
              "  <style>\n",
              "    .colab-df-container {\n",
              "      display:flex;\n",
              "      flex-wrap:wrap;\n",
              "      gap: 12px;\n",
              "    }\n",
              "\n",
              "    .colab-df-convert {\n",
              "      background-color: #E8F0FE;\n",
              "      border: none;\n",
              "      border-radius: 50%;\n",
              "      cursor: pointer;\n",
              "      display: none;\n",
              "      fill: #1967D2;\n",
              "      height: 32px;\n",
              "      padding: 0 0 0 0;\n",
              "      width: 32px;\n",
              "    }\n",
              "\n",
              "    .colab-df-convert:hover {\n",
              "      background-color: #E2EBFA;\n",
              "      box-shadow: 0px 1px 2px rgba(60, 64, 67, 0.3), 0px 1px 3px 1px rgba(60, 64, 67, 0.15);\n",
              "      fill: #174EA6;\n",
              "    }\n",
              "\n",
              "    [theme=dark] .colab-df-convert {\n",
              "      background-color: #3B4455;\n",
              "      fill: #D2E3FC;\n",
              "    }\n",
              "\n",
              "    [theme=dark] .colab-df-convert:hover {\n",
              "      background-color: #434B5C;\n",
              "      box-shadow: 0px 1px 3px 1px rgba(0, 0, 0, 0.15);\n",
              "      filter: drop-shadow(0px 1px 2px rgba(0, 0, 0, 0.3));\n",
              "      fill: #FFFFFF;\n",
              "    }\n",
              "  </style>\n",
              "\n",
              "      <script>\n",
              "        const buttonEl =\n",
              "          document.querySelector('#df-a7bba985-e81e-4df2-b3d8-c93edf8fd208 button.colab-df-convert');\n",
              "        buttonEl.style.display =\n",
              "          google.colab.kernel.accessAllowed ? 'block' : 'none';\n",
              "\n",
              "        async function convertToInteractive(key) {\n",
              "          const element = document.querySelector('#df-a7bba985-e81e-4df2-b3d8-c93edf8fd208');\n",
              "          const dataTable =\n",
              "            await google.colab.kernel.invokeFunction('convertToInteractive',\n",
              "                                                     [key], {});\n",
              "          if (!dataTable) return;\n",
              "\n",
              "          const docLinkHtml = 'Like what you see? Visit the ' +\n",
              "            '<a target=\"_blank\" href=https://colab.research.google.com/notebooks/data_table.ipynb>data table notebook</a>'\n",
              "            + ' to learn more about interactive tables.';\n",
              "          element.innerHTML = '';\n",
              "          dataTable['output_type'] = 'display_data';\n",
              "          await google.colab.output.renderOutput(dataTable, element);\n",
              "          const docLink = document.createElement('div');\n",
              "          docLink.innerHTML = docLinkHtml;\n",
              "          element.appendChild(docLink);\n",
              "        }\n",
              "      </script>\n",
              "    </div>\n",
              "  </div>\n",
              "  "
            ]
          },
          "metadata": {},
          "execution_count": 246
        }
      ]
    },
    {
      "cell_type": "markdown",
      "source": [
        "As we can see, `de_date_joined`, `fb_dob` and `fb_last_updated_date` contains values in datetime. Let's move them to a list of datetime features."
      ],
      "metadata": {
        "id": "w9uhxdDUc0r9"
      }
    },
    {
      "cell_type": "code",
      "source": [
        "date_cols = ['de_date_joined', 'fb_dob', 'fb_last_updated_date']\n",
        "cate_cols = [x for x in cate_cols if x not in date_cols]"
      ],
      "metadata": {
        "id": "hVKvXgVndE1m"
      },
      "execution_count": null,
      "outputs": []
    },
    {
      "cell_type": "code",
      "source": [
        "# Number of unique class in each columns\n",
        "df[cate_cols].apply(pd.Series.nunique, axis = 0)"
      ],
      "metadata": {
        "colab": {
          "base_uri": "https://localhost:8080/"
        },
        "id": "XVAd3Z66bbVN",
        "outputId": "5b5db968-f70a-4379-d1bd-62853cc7d81d"
      },
      "execution_count": null,
      "outputs": [
        {
          "output_type": "execute_result",
          "data": {
            "text/plain": [
              "ph_country_code             8\n",
              "ph_app_list             40097\n",
              "fb_gender                   2\n",
              "fb_relation                17\n",
              "device_codename          1041\n",
              "brand                     133\n",
              "flag_bad                    2\n",
              "de_gender                   2\n",
              "de_employment_type          4\n",
              "de_accomodation_type        1\n",
              "de_education                5\n",
              "de_marital_status           4\n",
              "de_children                 5\n",
              "dtype: int64"
            ]
          },
          "metadata": {},
          "execution_count": 248
        }
      ]
    },
    {
      "cell_type": "code",
      "source": [
        "# Number of missing values\n",
        "df[cate_cols].isnull().sum()"
      ],
      "metadata": {
        "colab": {
          "base_uri": "https://localhost:8080/"
        },
        "id": "7K_exieMeXsK",
        "outputId": "ec604070-33e6-4015-87de-40ca0340daf2"
      },
      "execution_count": null,
      "outputs": [
        {
          "output_type": "execute_result",
          "data": {
            "text/plain": [
              "ph_country_code            25\n",
              "ph_app_list                 0\n",
              "fb_gender                1513\n",
              "fb_relation             26461\n",
              "device_codename             0\n",
              "brand                       0\n",
              "flag_bad                    0\n",
              "de_gender                   0\n",
              "de_employment_type          0\n",
              "de_accomodation_type        0\n",
              "de_education                0\n",
              "de_marital_status           0\n",
              "de_children                 0\n",
              "dtype: int64"
            ]
          },
          "metadata": {},
          "execution_count": 249
        }
      ]
    },
    {
      "cell_type": "code",
      "source": [
        "# create a subplot of 3 x 3\n",
        "tmp = [col for col in cate_cols if df[col].nunique() < 6]\n",
        "sns.set_theme(style=\"whitegrid\")\n",
        "plt.subplots(3,3,figsize=(20,20))\n",
        "i = 0\n",
        "# Plot a density plot for each variable\n",
        "for idx, col in enumerate(tmp):\n",
        "    ax = plt.subplot(3,3,idx+1)\n",
        "    ax.yaxis.set_ticklabels([])\n",
        "    try:\n",
        "      sns.histplot(x=df[col])\n",
        "    except:\n",
        "      pass\n",
        "    # ax.set_title(col)\n",
        "\n",
        "# # Hide the 24, 25th subplot (bottom right) since there are only 23 plots\n",
        "# plt.subplot(5,5,24).set_visible(False)\n",
        "# plt.subplot(5,5,25).set_visible(False)\n",
        "\n",
        "plt.show()"
      ],
      "metadata": {
        "colab": {
          "base_uri": "https://localhost:8080/"
        },
        "id": "Ysi-GvFO1Bas",
        "outputId": "1edeccd4-2bcf-4db1-c059-eebc9e6dd7b6"
      },
      "execution_count": null,
      "outputs": [
        {
          "output_type": "display_data",
          "data": {
            "text/plain": [
              "<Figure size 1440x1440 with 9 Axes>"
            ],
            "image/png": "[encoded data removed]"
          },
          "metadata": {}
        }
      ]
    },
    {
      "cell_type": "markdown",
      "source": [
        "### `ph_country_code`"
      ],
      "metadata": {
        "id": "Olwu71x9zEg2"
      }
    },
    {
      "cell_type": "code",
      "source": [
        "# Plot a histogram\n",
        "sns.histplot(x='ph_country_code', data=df[cate_cols])"
      ],
      "metadata": {
        "colab": {
          "base_uri": "https://localhost:8080/"
        },
        "id": "-3PmQS2pzIfg",
        "outputId": "899cd9f8-0c87-4615-80be-23a88b61a6c5"
      },
      "execution_count": null,
      "outputs": [
        {
          "output_type": "execute_result",
          "data": {
            "text/plain": [
              "<matplotlib.axes._subplots.AxesSubplot at 0x7f3f888cb6d0>"
            ]
          },
          "metadata": {},
          "execution_count": 251
        },
        {
          "output_type": "display_data",
          "data": {
            "text/plain": [
              "<Figure size 432x288 with 1 Axes>"
            ],
            "image/png": "[encoded data removed]"
          },
          "metadata": {}
        }
      ]
    },
    {
      "cell_type": "code",
      "source": [
        "# Unique values occurence\n",
        "df['ph_country_code'].value_counts()"
      ],
      "metadata": {
        "colab": {
          "base_uri": "https://localhost:8080/"
        },
        "id": "ZnWnXFsdzZO2",
        "outputId": "58f79df0-8cfd-4be2-a0fc-3d9ce500b6c6"
      },
      "execution_count": null,
      "outputs": [
        {
          "output_type": "execute_result",
          "data": {
            "text/plain": [
              "id    40984\n",
              "us        3\n",
              "sg        3\n",
              "my        2\n",
              "jp        2\n",
              "tw        1\n",
              "kh        1\n",
              "th        1\n",
              "Name: ph_country_code, dtype: int64"
            ]
          },
          "metadata": {},
          "execution_count": 252
        }
      ]
    },
    {
      "cell_type": "markdown",
      "source": [
        "Most of the values is id"
      ],
      "metadata": {
        "id": "fTOxXjUCzk--"
      }
    },
    {
      "cell_type": "markdown",
      "source": [
        "### `ph_app_list`"
      ],
      "metadata": {
        "id": "bba1FrnDzu6-"
      }
    },
    {
      "cell_type": "code",
      "source": [
        "df['ph_app_list'].head(10)"
      ],
      "metadata": {
        "colab": {
          "base_uri": "https://localhost:8080/"
        },
        "id": "oJ3iP5etzx7f",
        "outputId": "8e1fb030-3a70-4940-9841-3cb82ebcc74a"
      },
      "execution_count": null,
      "outputs": [
        {
          "output_type": "execute_result",
          "data": {
            "text/plain": [
              "0    ['com.google.android.music', 'com.facebook.orc...\n",
              "1    ['com.google.android.instantapps.supervisor', ...\n",
              "2    ['com.tencent.ibg.joox', 'com.mrgames.larvaact...\n",
              "3    ['com.kfit.fave', 'app.bpjs.mobile', 'com.redd...\n",
              "4    ['com.lenovo.anyshare.gps', 'com.UCMobile.intl...\n",
              "5    ['com.soundcloud.android', 'com.lenovo.anyshar...\n",
              "6    ['com.rarlab.rar', 'com.kreditpintar', 'com.wh...\n",
              "7    ['com.finaccel.android', 'com.whatsapp', 'com....\n",
              "8    ['ovo.id', 'com.vuclip.viu', 'com.grabtaxi.pas...\n",
              "9    ['mega.privacy.android.app', 'com.musixmatch.a...\n",
              "Name: ph_app_list, dtype: object"
            ]
          },
          "metadata": {},
          "execution_count": 253
        }
      ]
    },
    {
      "cell_type": "markdown",
      "source": [
        "Values are stored in a list. Basically, it reflects the type of app user are using"
      ],
      "metadata": {
        "id": "2xzb2Ckf0C3H"
      }
    },
    {
      "cell_type": "markdown",
      "source": [
        "### `Brand`"
      ],
      "metadata": {
        "id": "ttBSzgE8ycEn"
      }
    },
    {
      "cell_type": "markdown",
      "source": [
        "Let's standardize columns `brand` values by uppercase all characters"
      ],
      "metadata": {
        "id": "J0M0AeYym1q_"
      }
    },
    {
      "cell_type": "code",
      "source": [
        "df['brand'] = df['brand'].str.upper()"
      ],
      "metadata": {
        "id": "kuvVbE1EnDLK"
      },
      "execution_count": null,
      "outputs": []
    },
    {
      "cell_type": "code",
      "source": [
        "# Unique values occurence\n",
        "df['brand'].value_counts()"
      ],
      "metadata": {
        "colab": {
          "base_uri": "https://localhost:8080/"
        },
        "id": "twmfTc4ymIXr",
        "outputId": "7cc4fcce-3f1c-4ced-93b6-ea4cd613166f"
      },
      "execution_count": null,
      "outputs": [
        {
          "output_type": "execute_result",
          "data": {
            "text/plain": [
              "XIAOMI      13764\n",
              "SAMSUNG      8871\n",
              "OPPO         7474\n",
              "VIVO         2460\n",
              "ASUS         2425\n",
              "            ...  \n",
              "KYOCERA         1\n",
              "QCOM            1\n",
              "VODAFONE        1\n",
              "MAXTRON         1\n",
              "O3              1\n",
              "Name: brand, Length: 107, dtype: int64"
            ]
          },
          "metadata": {},
          "execution_count": 255
        }
      ]
    },
    {
      "cell_type": "code",
      "source": [
        "df_tmp = pd.DataFrame(df['brand'].value_counts().rename_axis('brand').reset_index(name='counts'))\n",
        "df_tmp['percent'] = df_tmp['counts']/sum(df_tmp['counts'])\n",
        "# Percentage of top 5 values\n",
        "df_tmp.head(5)['percent'].sum()"
      ],
      "metadata": {
        "colab": {
          "base_uri": "https://localhost:8080/"
        },
        "id": "cpU4LULXpnI3",
        "outputId": "ba880276-13be-465e-8906-a0a77ea34288"
      },
      "execution_count": null,
      "outputs": [
        {
          "output_type": "execute_result",
          "data": {
            "text/plain": [
              "0.8530544585831992"
            ]
          },
          "metadata": {},
          "execution_count": 256
        }
      ]
    },
    {
      "cell_type": "markdown",
      "source": [
        "The first 5 groups take more than 85%."
      ],
      "metadata": {
        "id": "xWIdQA-OxZv3"
      }
    },
    {
      "cell_type": "markdown",
      "source": [
        "## Continous data"
      ],
      "metadata": {
        "id": "r50LT2D005hL"
      }
    },
    {
      "cell_type": "markdown",
      "source": [
        "### Over view"
      ],
      "metadata": {
        "id": "Fqfkp_3x09i3"
      }
    },
    {
      "cell_type": "code",
      "source": [
        "# Categorical columns\n",
        "df[num_cols].describe()"
      ],
      "metadata": {
        "colab": {
          "base_uri": "https://localhost:8080/"
        },
        "id": "WqOgb7IZ1ACo",
        "outputId": "32afd8be-eca5-454a-ce7d-e46903e3e8ed"
      },
      "execution_count": null,
      "outputs": [
        {
          "output_type": "execute_result",
          "data": {
            "text/plain": [
              "              index        de_age  de_num_friends  de_monthly_salary  \\\n",
              "count  41022.000000  41022.000000    41022.000000       4.102200e+04   \n",
              "mean   20510.500000     28.170908     1270.023987       5.182707e+06   \n",
              "std    11842.175708      6.537795     1188.849670       3.751306e+06   \n",
              "min        0.000000     18.000000       -1.000000       0.000000e+00   \n",
              "25%    10255.250000     23.000000      437.000000       3.000000e+06   \n",
              "50%    20510.500000     27.000000      867.000000       4.000000e+06   \n",
              "75%    30765.750000     32.000000     1663.000000       5.000000e+06   \n",
              "max    41021.000000     73.000000     5000.000000       4.100000e+07   \n",
              "\n",
              "       de_employment_duration  ph_total_contacts  percent_incoming_nighttime  \\\n",
              "count            41022.000000       41022.000000                38935.000000   \n",
              "mean                33.437887         127.032568                    5.147761   \n",
              "std                 16.586586         319.078176                    7.249589   \n",
              "min                  0.000000           0.000000                    0.000000   \n",
              "25%                 18.000000           0.000000                    0.000000   \n",
              "50%                 36.000000           0.000000                    3.230000   \n",
              "75%                 51.000000         144.000000                    7.140000   \n",
              "max                 51.000000       17315.000000                  100.000000   \n",
              "\n",
              "       percent_outgoing_daytime  duration_incoming_daytime  \\\n",
              "count              38935.000000               38935.000000   \n",
              "mean                  34.750085                2140.144651   \n",
              "std                   21.989523                4863.969466   \n",
              "min                    0.000000              -81677.000000   \n",
              "25%                   18.520000                 143.000000   \n",
              "50%                   34.090000                 725.000000   \n",
              "75%                   49.585000                2309.000000   \n",
              "max                  100.000000              320131.000000   \n",
              "\n",
              "       duration_outgoing_daytime  percent_incoming_daytime  \\\n",
              "count               3.893500e+04              38935.000000   \n",
              "mean                2.276878e+03                 18.952398   \n",
              "std                 9.110616e+03                 15.067259   \n",
              "min                 0.000000e+00                  0.000000   \n",
              "25%                 3.700000e+01                  8.330000   \n",
              "50%                 4.540000e+02                 16.670000   \n",
              "75%                 1.939500e+03                 26.670000   \n",
              "max                 1.229976e+06                100.000000   \n",
              "\n",
              "       percent_other_calls  duration_outgoing_nighttime  \\\n",
              "count         38935.000000                 38935.000000   \n",
              "mean             24.670238                  1257.770720   \n",
              "std              20.148271                  6457.274568   \n",
              "min               0.000000                     0.000000   \n",
              "25%              10.450000                     0.000000   \n",
              "50%              20.000000                    73.000000   \n",
              "75%              34.070000                   541.000000   \n",
              "max             100.000000                280726.000000   \n",
              "\n",
              "       percent_outgoing_nighttime   total_calls  duration_incoming_nighttime  \n",
              "count                38935.000000  38935.000000                 3.893500e+04  \n",
              "mean                    13.120019    106.800796                 8.943493e+02  \n",
              "std                     14.239384    131.901441                 1.547035e+04  \n",
              "min                      0.000000      0.000000                -2.860188e+06  \n",
              "25%                      3.130000     25.000000                 0.000000e+00  \n",
              "50%                      9.570000     65.000000                 9.800000e+01  \n",
              "75%                     18.320000    138.000000                 4.650000e+02  \n",
              "max                    100.000000   3023.000000                 4.495460e+05  "
            ],
            "text/html": [
              "\n",
              "  <div id=\"df-639cc7eb-b91b-4372-b993-6f3a09529635\">\n",
              "    <div class=\"colab-df-container\">\n",
              "      <div>\n",
              "<style scoped>\n",
              "    .dataframe tbody tr th:only-of-type {\n",
              "        vertical-align: middle;\n",
              "    }\n",
              "\n",
              "    .dataframe tbody tr th {\n",
              "        vertical-align: top;\n",
              "    }\n",
              "\n",
              "    .dataframe thead th {\n",
              "        text-align: right;\n",
              "    }\n",
              "</style>\n",
              "<table border=\"1\" class=\"dataframe\">\n",
              "  <thead>\n",
              "    <tr style=\"text-align: right;\">\n",
              "      <th></th>\n",
              "      <th>index</th>\n",
              "      <th>de_age</th>\n",
              "      <th>de_num_friends</th>\n",
              "      <th>de_monthly_salary</th>\n",
              "      <th>de_employment_duration</th>\n",
              "      <th>ph_total_contacts</th>\n",
              "      <th>percent_incoming_nighttime</th>\n",
              "      <th>percent_outgoing_daytime</th>\n",
              "      <th>duration_incoming_daytime</th>\n",
              "      <th>duration_outgoing_daytime</th>\n",
              "      <th>percent_incoming_daytime</th>\n",
              "      <th>percent_other_calls</th>\n",
              "      <th>duration_outgoing_nighttime</th>\n",
              "      <th>percent_outgoing_nighttime</th>\n",
              "      <th>total_calls</th>\n",
              "      <th>duration_incoming_nighttime</th>\n",
              "    </tr>\n",
              "  </thead>\n",
              "  <tbody>\n",
              "    <tr>\n",
              "      <th>count</th>\n",
              "      <td>41022.000000</td>\n",
              "      <td>41022.000000</td>\n",
              "      <td>41022.000000</td>\n",
              "      <td>4.102200e+04</td>\n",
              "      <td>41022.000000</td>\n",
              "      <td>41022.000000</td>\n",
              "      <td>38935.000000</td>\n",
              "      <td>38935.000000</td>\n",
              "      <td>38935.000000</td>\n",
              "      <td>3.893500e+04</td>\n",
              "      <td>38935.000000</td>\n",
              "      <td>38935.000000</td>\n",
              "      <td>38935.000000</td>\n",
              "      <td>38935.000000</td>\n",
              "      <td>38935.000000</td>\n",
              "      <td>3.893500e+04</td>\n",
              "    </tr>\n",
              "    <tr>\n",
              "      <th>mean</th>\n",
              "      <td>20510.500000</td>\n",
              "      <td>28.170908</td>\n",
              "      <td>1270.023987</td>\n",
              "      <td>5.182707e+06</td>\n",
              "      <td>33.437887</td>\n",
              "      <td>127.032568</td>\n",
              "      <td>5.147761</td>\n",
              "      <td>34.750085</td>\n",
              "      <td>2140.144651</td>\n",
              "      <td>2.276878e+03</td>\n",
              "      <td>18.952398</td>\n",
              "      <td>24.670238</td>\n",
              "      <td>1257.770720</td>\n",
              "      <td>13.120019</td>\n",
              "      <td>106.800796</td>\n",
              "      <td>8.943493e+02</td>\n",
              "    </tr>\n",
              "    <tr>\n",
              "      <th>std</th>\n",
              "      <td>11842.175708</td>\n",
              "      <td>6.537795</td>\n",
              "      <td>1188.849670</td>\n",
              "      <td>3.751306e+06</td>\n",
              "      <td>16.586586</td>\n",
              "      <td>319.078176</td>\n",
              "      <td>7.249589</td>\n",
              "      <td>21.989523</td>\n",
              "      <td>4863.969466</td>\n",
              "      <td>9.110616e+03</td>\n",
              "      <td>15.067259</td>\n",
              "      <td>20.148271</td>\n",
              "      <td>6457.274568</td>\n",
              "      <td>14.239384</td>\n",
              "      <td>131.901441</td>\n",
              "      <td>1.547035e+04</td>\n",
              "    </tr>\n",
              "    <tr>\n",
              "      <th>min</th>\n",
              "      <td>0.000000</td>\n",
              "      <td>18.000000</td>\n",
              "      <td>-1.000000</td>\n",
              "      <td>0.000000e+00</td>\n",
              "      <td>0.000000</td>\n",
              "      <td>0.000000</td>\n",
              "      <td>0.000000</td>\n",
              "      <td>0.000000</td>\n",
              "      <td>-81677.000000</td>\n",
              "      <td>0.000000e+00</td>\n",
              "      <td>0.000000</td>\n",
              "      <td>0.000000</td>\n",
              "      <td>0.000000</td>\n",
              "      <td>0.000000</td>\n",
              "      <td>0.000000</td>\n",
              "      <td>-2.860188e+06</td>\n",
              "    </tr>\n",
              "    <tr>\n",
              "      <th>25%</th>\n",
              "      <td>10255.250000</td>\n",
              "      <td>23.000000</td>\n",
              "      <td>437.000000</td>\n",
              "      <td>3.000000e+06</td>\n",
              "      <td>18.000000</td>\n",
              "      <td>0.000000</td>\n",
              "      <td>0.000000</td>\n",
              "      <td>18.520000</td>\n",
              "      <td>143.000000</td>\n",
              "      <td>3.700000e+01</td>\n",
              "      <td>8.330000</td>\n",
              "      <td>10.450000</td>\n",
              "      <td>0.000000</td>\n",
              "      <td>3.130000</td>\n",
              "      <td>25.000000</td>\n",
              "      <td>0.000000e+00</td>\n",
              "    </tr>\n",
              "    <tr>\n",
              "      <th>50%</th>\n",
              "      <td>20510.500000</td>\n",
              "      <td>27.000000</td>\n",
              "      <td>867.000000</td>\n",
              "      <td>4.000000e+06</td>\n",
              "      <td>36.000000</td>\n",
              "      <td>0.000000</td>\n",
              "      <td>3.230000</td>\n",
              "      <td>34.090000</td>\n",
              "      <td>725.000000</td>\n",
              "      <td>4.540000e+02</td>\n",
              "      <td>16.670000</td>\n",
              "      <td>20.000000</td>\n",
              "      <td>73.000000</td>\n",
              "      <td>9.570000</td>\n",
              "      <td>65.000000</td>\n",
              "      <td>9.800000e+01</td>\n",
              "    </tr>\n",
              "    <tr>\n",
              "      <th>75%</th>\n",
              "      <td>30765.750000</td>\n",
              "      <td>32.000000</td>\n",
              "      <td>1663.000000</td>\n",
              "      <td>5.000000e+06</td>\n",
              "      <td>51.000000</td>\n",
              "      <td>144.000000</td>\n",
              "      <td>7.140000</td>\n",
              "      <td>49.585000</td>\n",
              "      <td>2309.000000</td>\n",
              "      <td>1.939500e+03</td>\n",
              "      <td>26.670000</td>\n",
              "      <td>34.070000</td>\n",
              "      <td>541.000000</td>\n",
              "      <td>18.320000</td>\n",
              "      <td>138.000000</td>\n",
              "      <td>4.650000e+02</td>\n",
              "    </tr>\n",
              "    <tr>\n",
              "      <th>max</th>\n",
              "      <td>41021.000000</td>\n",
              "      <td>73.000000</td>\n",
              "      <td>5000.000000</td>\n",
              "      <td>4.100000e+07</td>\n",
              "      <td>51.000000</td>\n",
              "      <td>17315.000000</td>\n",
              "      <td>100.000000</td>\n",
              "      <td>100.000000</td>\n",
              "      <td>320131.000000</td>\n",
              "      <td>1.229976e+06</td>\n",
              "      <td>100.000000</td>\n",
              "      <td>100.000000</td>\n",
              "      <td>280726.000000</td>\n",
              "      <td>100.000000</td>\n",
              "      <td>3023.000000</td>\n",
              "      <td>4.495460e+05</td>\n",
              "    </tr>\n",
              "  </tbody>\n",
              "</table>\n",
              "</div>\n",
              "      <button class=\"colab-df-convert\" onclick=\"convertToInteractive('df-639cc7eb-b91b-4372-b993-6f3a09529635')\"\n",
              "              title=\"Convert this dataframe to an interactive table.\"\n",
              "              style=\"display:none;\">\n",
              "        \n",
              "  <svg xmlns=\"http://www.w3.org/2000/svg\" height=\"24px\"viewBox=\"0 0 24 24\"\n",
              "       width=\"24px\">\n",
              "    <path d=\"M0 0h24v24H0V0z\" fill=\"none\"/>\n",
              "    <path d=\"M18.56 5.44l.94 2.06.94-2.06 2.06-.94-2.06-.94-.94-2.06-.94 2.06-2.06.94zm-11 1L8.5 8.5l.94-2.06 2.06-.94-2.06-.94L8.5 2.5l-.94 2.06-2.06.94zm10 10l.94 2.06.94-2.06 2.06-.94-2.06-.94-.94-2.06-.94 2.06-2.06.94z\"/><path d=\"M17.41 7.96l-1.37-1.37c-.4-.4-.92-.59-1.43-.59-.52 0-1.04.2-1.43.59L10.3 9.45l-7.72 7.72c-.78.78-.78 2.05 0 2.83L4 21.41c.39.39.9.59 1.41.59.51 0 1.02-.2 1.41-.59l7.78-7.78 2.81-2.81c.8-.78.8-2.07 0-2.86zM5.41 20L4 18.59l7.72-7.72 1.47 1.35L5.41 20z\"/>\n",
              "  </svg>\n",
              "      </button>\n",
              "      \n",
              "  <style>\n",
              "    .colab-df-container {\n",
              "      display:flex;\n",
              "      flex-wrap:wrap;\n",
              "      gap: 12px;\n",
              "    }\n",
              "\n",
              "    .colab-df-convert {\n",
              "      background-color: #E8F0FE;\n",
              "      border: none;\n",
              "      border-radius: 50%;\n",
              "      cursor: pointer;\n",
              "      display: none;\n",
              "      fill: #1967D2;\n",
              "      height: 32px;\n",
              "      padding: 0 0 0 0;\n",
              "      width: 32px;\n",
              "    }\n",
              "\n",
              "    .colab-df-convert:hover {\n",
              "      background-color: #E2EBFA;\n",
              "      box-shadow: 0px 1px 2px rgba(60, 64, 67, 0.3), 0px 1px 3px 1px rgba(60, 64, 67, 0.15);\n",
              "      fill: #174EA6;\n",
              "    }\n",
              "\n",
              "    [theme=dark] .colab-df-convert {\n",
              "      background-color: #3B4455;\n",
              "      fill: #D2E3FC;\n",
              "    }\n",
              "\n",
              "    [theme=dark] .colab-df-convert:hover {\n",
              "      background-color: #434B5C;\n",
              "      box-shadow: 0px 1px 3px 1px rgba(0, 0, 0, 0.15);\n",
              "      filter: drop-shadow(0px 1px 2px rgba(0, 0, 0, 0.3));\n",
              "      fill: #FFFFFF;\n",
              "    }\n",
              "  </style>\n",
              "\n",
              "      <script>\n",
              "        const buttonEl =\n",
              "          document.querySelector('#df-639cc7eb-b91b-4372-b993-6f3a09529635 button.colab-df-convert');\n",
              "        buttonEl.style.display =\n",
              "          google.colab.kernel.accessAllowed ? 'block' : 'none';\n",
              "\n",
              "        async function convertToInteractive(key) {\n",
              "          const element = document.querySelector('#df-639cc7eb-b91b-4372-b993-6f3a09529635');\n",
              "          const dataTable =\n",
              "            await google.colab.kernel.invokeFunction('convertToInteractive',\n",
              "                                                     [key], {});\n",
              "          if (!dataTable) return;\n",
              "\n",
              "          const docLinkHtml = 'Like what you see? Visit the ' +\n",
              "            '<a target=\"_blank\" href=https://colab.research.google.com/notebooks/data_table.ipynb>data table notebook</a>'\n",
              "            + ' to learn more about interactive tables.';\n",
              "          element.innerHTML = '';\n",
              "          dataTable['output_type'] = 'display_data';\n",
              "          await google.colab.output.renderOutput(dataTable, element);\n",
              "          const docLink = document.createElement('div');\n",
              "          docLink.innerHTML = docLinkHtml;\n",
              "          element.appendChild(docLink);\n",
              "        }\n",
              "      </script>\n",
              "    </div>\n",
              "  </div>\n",
              "  "
            ]
          },
          "metadata": {},
          "execution_count": 257
        }
      ]
    },
    {
      "cell_type": "code",
      "source": [
        "# Check missing values\n",
        "df[num_cols].isnull().sum()"
      ],
      "metadata": {
        "colab": {
          "base_uri": "https://localhost:8080/"
        },
        "id": "ONQka-kiEede",
        "outputId": "db3b8849-51ed-4bfd-ba22-6bde5296b82e"
      },
      "execution_count": null,
      "outputs": [
        {
          "output_type": "execute_result",
          "data": {
            "text/plain": [
              "index                             0\n",
              "de_age                            0\n",
              "de_num_friends                    0\n",
              "de_monthly_salary                 0\n",
              "de_employment_duration            0\n",
              "ph_total_contacts                 0\n",
              "percent_incoming_nighttime     2087\n",
              "percent_outgoing_daytime       2087\n",
              "duration_incoming_daytime      2087\n",
              "duration_outgoing_daytime      2087\n",
              "percent_incoming_daytime       2087\n",
              "percent_other_calls            2087\n",
              "duration_outgoing_nighttime    2087\n",
              "percent_outgoing_nighttime     2087\n",
              "total_calls                    2087\n",
              "duration_incoming_nighttime    2087\n",
              "dtype: int64"
            ]
          },
          "metadata": {},
          "execution_count": 258
        }
      ]
    },
    {
      "cell_type": "code",
      "source": [
        "# create a subplot of 3 x 3\n",
        "sns.set_theme(style=\"whitegrid\")\n",
        "plt.subplots(4,4,figsize=(20,20))\n",
        "i = 0\n",
        "# Plot a density plot for each variable\n",
        "for idx, col in enumerate(num_cols):\n",
        "\n",
        "    ax = plt.subplot(4,4,idx+1)\n",
        "    ax.yaxis.set_ticklabels([])\n",
        "    try:\n",
        "      sns.boxplot(x=df[col])\n",
        "    except:\n",
        "      pass\n",
        "    # ax.set_title(col)\n",
        "\n",
        "# # Hide the 24, 25th subplot (bottom right) since there are only 23 plots\n",
        "# plt.subplot(5,5,24).set_visible(False)\n",
        "# plt.subplot(5,5,25).set_visible(False)\n",
        "\n",
        "plt.show()"
      ],
      "metadata": {
        "colab": {
          "base_uri": "https://localhost:8080/"
        },
        "id": "hbdzdswG50nO",
        "outputId": "da822623-2747-4b13-d976-00e022280394"
      },
      "execution_count": null,
      "outputs": [
        {
          "output_type": "display_data",
          "data": {
            "text/plain": [
              "<Figure size 1440x1440 with 16 Axes>"
            ],
            "image/png": "[encoded data removed]"
          },
          "metadata": {}
        }
      ]
    },
    {
      "cell_type": "markdown",
      "source": [
        "Most of the data skews to the right"
      ],
      "metadata": {
        "id": "ylMr2AZygDp2"
      }
    },
    {
      "cell_type": "markdown",
      "source": [
        "# III. Data Preprocessing"
      ],
      "metadata": {
        "id": "IyojryoMQQ5w"
      }
    },
    {
      "cell_type": "markdown",
      "source": [
        "## Data cleansing"
      ],
      "metadata": {
        "id": "G2yecDyz9PMW"
      }
    },
    {
      "cell_type": "markdown",
      "source": [
        "### Categorical features"
      ],
      "metadata": {
        "id": "zVpMGLiLTsyn"
      }
    },
    {
      "cell_type": "code",
      "source": [
        "df[cate_cols].apply(pd.Series.nunique)"
      ],
      "metadata": {
        "colab": {
          "base_uri": "https://localhost:8080/"
        },
        "id": "SuDWsCHkz2ks",
        "outputId": "a8693a98-68ca-4e10-b9d6-6fc944900533"
      },
      "execution_count": null,
      "outputs": [
        {
          "output_type": "execute_result",
          "data": {
            "text/plain": [
              "ph_country_code             8\n",
              "ph_app_list             40097\n",
              "fb_gender                   2\n",
              "fb_relation                17\n",
              "device_codename          1041\n",
              "brand                     107\n",
              "flag_bad                    2\n",
              "de_gender                   2\n",
              "de_employment_type          4\n",
              "de_accomodation_type        1\n",
              "de_education                5\n",
              "de_marital_status           4\n",
              "de_children                 5\n",
              "dtype: int64"
            ]
          },
          "metadata": {},
          "execution_count": 260
        }
      ]
    },
    {
      "cell_type": "markdown",
      "source": [
        "#### `ph_country_code`"
      ],
      "metadata": {
        "id": "oDSTtCuG_D-O"
      }
    },
    {
      "cell_type": "code",
      "source": [
        "# Number of missing values\n",
        "df['ph_country_code'].isnull().sum()"
      ],
      "metadata": {
        "id": "C5P6l9fWHQsi",
        "colab": {
          "base_uri": "https://localhost:8080/"
        },
        "outputId": "fbbc8f93-1171-4a24-eac5-872c7369ef0a"
      },
      "execution_count": null,
      "outputs": [
        {
          "output_type": "execute_result",
          "data": {
            "text/plain": [
              "25"
            ]
          },
          "metadata": {},
          "execution_count": 261
        }
      ]
    },
    {
      "cell_type": "code",
      "source": [
        "#Let's remove this column as most of the value is id.\n",
        "df.drop(columns=['ph_country_code'], axis=0, inplace=True)"
      ],
      "metadata": {
        "id": "WTZxDyK6aAb7"
      },
      "execution_count": null,
      "outputs": []
    },
    {
      "cell_type": "markdown",
      "source": [
        "#### `ph_app_list`"
      ],
      "metadata": {
        "id": "PbR3yBxMHPPO"
      }
    },
    {
      "cell_type": "code",
      "source": [
        "def ph_app_list_to_number(string_):\n",
        "  string_ = string_.replace(\"'\",'').replace('[', '').replace(']','').split(',')\n",
        "  count_ = len(string_)\n",
        "  return int(count_)"
      ],
      "metadata": {
        "id": "nZJ-ONtT0ix6"
      },
      "execution_count": null,
      "outputs": []
    },
    {
      "cell_type": "code",
      "source": [
        "# Convert app_list to number of apps \n",
        "df['ph_app_list'] = df['ph_app_list'].apply(ph_app_list_to_number)"
      ],
      "metadata": {
        "id": "WrAfsG-8b3HU"
      },
      "execution_count": null,
      "outputs": []
    },
    {
      "cell_type": "code",
      "source": [
        "# Move this column to num_cols:\n",
        "cate_cols.remove('ph_app_list')\n",
        "num_cols.append('ph_app_list')"
      ],
      "metadata": {
        "id": "H74Q5O-YGjgn"
      },
      "execution_count": null,
      "outputs": []
    },
    {
      "cell_type": "markdown",
      "source": [
        "#### `de_accomodation_type`, `fb_gender`, `device_codename` & `fb_relation`"
      ],
      "metadata": {
        "id": "M2uUR5ygAVlG"
      }
    },
    {
      "cell_type": "code",
      "source": [
        "# Remove de_accomodation_type as it has only 1 class\n",
        "df.drop(columns=['de_accomodation_type'], axis=0, inplace=True)"
      ],
      "metadata": {
        "id": "hCBfHW9jCBa8"
      },
      "execution_count": null,
      "outputs": []
    },
    {
      "cell_type": "code",
      "source": [
        "# Remove fb_gender as it has the same meaning of de_gender\n",
        "df.drop(columns=['fb_gender'], axis=0, inplace=True)"
      ],
      "metadata": {
        "id": "97GZMo8e9rBG"
      },
      "execution_count": null,
      "outputs": []
    },
    {
      "cell_type": "code",
      "source": [
        "# Remove device_codename as it can be replaced by brand\n",
        "df.drop(columns=['device_codename'], axis=0, inplace=True)"
      ],
      "metadata": {
        "id": "Ilirql2LBxPu"
      },
      "execution_count": null,
      "outputs": []
    },
    {
      "cell_type": "code",
      "source": [
        "# Remove fb_relate as it can be replaced by de_martial_status\n",
        "df.drop(columns=['fb_relation'], axis=0, inplace=True)"
      ],
      "metadata": {
        "id": "JUj2bp0fAd8j"
      },
      "execution_count": null,
      "outputs": []
    },
    {
      "cell_type": "markdown",
      "source": [
        "#### `brand`"
      ],
      "metadata": {
        "id": "TtO1GEvVCFON"
      }
    },
    {
      "cell_type": "code",
      "source": [
        "# New dataframe with brand name and its respective occurence\n",
        "brand_count = df['brand'].value_counts().to_dict()\n",
        "brand_count_df = pd.DataFrame({'brand': brand_count.keys(), 'count':brand_count.values()})"
      ],
      "metadata": {
        "id": "wuZ4U7WVpzby"
      },
      "execution_count": null,
      "outputs": []
    },
    {
      "cell_type": "code",
      "source": [
        "# Categorize brand names into 4 groups\n",
        "brands_over_10000 = brand_count_df.loc[brand_count_df['count'] > 10000, 'brand'].unique()\n",
        "brands_over_5000 = brand_count_df.loc[brand_count_df['count'].between(5000, 10000), 'brand'].unique()\n",
        "brands_over_1000 = brand_count_df.loc[brand_count_df['count'].between(1000, 5000), 'brand'].unique()\n",
        "brands_under_1000 = brand_count_df.loc[brand_count_df['count'] < 1000, 'brand'].unique()"
      ],
      "metadata": {
        "id": "L6BCaImeqT47"
      },
      "execution_count": null,
      "outputs": []
    },
    {
      "cell_type": "code",
      "source": [
        "df.loc[df['brand'].isin(brands_over_10000), 'brand'] = 'A'\n",
        "df.loc[df['brand'].isin(brands_over_5000), 'brand'] = 'B'\n",
        "df.loc[df['brand'].isin(brands_over_1000), 'brand'] = 'C'\n",
        "df.loc[df['brand'].isin(brands_under_1000), 'brand'] = 'D'"
      ],
      "metadata": {
        "id": "0blTHsuLl2Jz"
      },
      "execution_count": null,
      "outputs": []
    },
    {
      "cell_type": "code",
      "source": [
        "sns.histplot(x=df['brand'])"
      ],
      "metadata": {
        "colab": {
          "base_uri": "https://localhost:8080/"
        },
        "id": "7_2owKVCsw_l",
        "outputId": "aaaddb19-d66a-49eb-e4f9-a66e6f934dc3"
      },
      "execution_count": null,
      "outputs": [
        {
          "output_type": "execute_result",
          "data": {
            "text/plain": [
              "<matplotlib.axes._subplots.AxesSubplot at 0x7f3f89453dd0>"
            ]
          },
          "metadata": {},
          "execution_count": 273
        },
        {
          "output_type": "display_data",
          "data": {
            "text/plain": [
              "<Figure size 432x288 with 1 Axes>"
            ],
            "image/png": "[encoded data removed]"
          },
          "metadata": {}
        }
      ]
    },
    {
      "cell_type": "markdown",
      "source": [
        "#### `de_children`"
      ],
      "metadata": {
        "id": "ibxHmA56JvrJ"
      }
    },
    {
      "cell_type": "code",
      "source": [
        "# Move this column to num_cols\n",
        "cate_cols.remove('de_children')\n",
        "num_cols.append('de_children')"
      ],
      "metadata": {
        "id": "2rVbzFDdJwFN"
      },
      "execution_count": null,
      "outputs": []
    },
    {
      "cell_type": "markdown",
      "source": [
        "### Datetime features"
      ],
      "metadata": {
        "id": "1lm9KkekFDAO"
      }
    },
    {
      "cell_type": "markdown",
      "source": [
        "#### `de_date_joined`"
      ],
      "metadata": {
        "id": "OtSTmPLEFJze"
      }
    },
    {
      "cell_type": "code",
      "source": [
        "now = dt.now()"
      ],
      "metadata": {
        "id": "-sFGxHlXgOgT"
      },
      "execution_count": null,
      "outputs": []
    },
    {
      "cell_type": "code",
      "source": [
        "# Convert to days joined\n",
        "df['de_date_joined'] = (now - pd.to_datetime(df['de_date_joined'])).apply(get_days)"
      ],
      "metadata": {
        "id": "ujXyHZmhfYSM"
      },
      "execution_count": null,
      "outputs": []
    },
    {
      "cell_type": "code",
      "source": [
        "df['de_date_joined'].plot.hist()"
      ],
      "metadata": {
        "colab": {
          "base_uri": "https://localhost:8080/"
        },
        "id": "APPnx2eHg0Rr",
        "outputId": "3b947e01-0c59-48ce-9925-49b680d6c908"
      },
      "execution_count": null,
      "outputs": [
        {
          "output_type": "execute_result",
          "data": {
            "text/plain": [
              "<matplotlib.axes._subplots.AxesSubplot at 0x7f3f89455510>"
            ]
          },
          "metadata": {},
          "execution_count": 277
        },
        {
          "output_type": "display_data",
          "data": {
            "text/plain": [
              "<Figure size 432x288 with 1 Axes>"
            ],
            "image/png": "[encoded data removed]"
          },
          "metadata": {}
        }
      ]
    },
    {
      "cell_type": "markdown",
      "source": [
        "#### `fb_last_updated_date` need to be fixed"
      ],
      "metadata": {
        "id": "mUw5sxEsFbJF"
      }
    },
    {
      "cell_type": "code",
      "source": [
        "now = dt.now(timezone.utc)\n",
        "df['fb_last_updated_date'] = (now - pd.to_datetime(df['fb_last_updated_date'])).apply(get_days)"
      ],
      "metadata": {
        "id": "DTc1_NoJllpd"
      },
      "execution_count": null,
      "outputs": []
    },
    {
      "cell_type": "code",
      "source": [
        "sns.histplot(df['fb_last_updated_date'])"
      ],
      "metadata": {
        "colab": {
          "base_uri": "https://localhost:8080/"
        },
        "id": "az3n3W1kRgzk",
        "outputId": "53df570c-6b35-4173-f09e-a6c4fc9d6f2d"
      },
      "execution_count": null,
      "outputs": [
        {
          "output_type": "execute_result",
          "data": {
            "text/plain": [
              "<matplotlib.axes._subplots.AxesSubplot at 0x7f3f891eef10>"
            ]
          },
          "metadata": {},
          "execution_count": 279
        },
        {
          "output_type": "display_data",
          "data": {
            "text/plain": [
              "<Figure size 432x288 with 1 Axes>"
            ],
            "image/png": "[encoded data removed]"
          },
          "metadata": {}
        }
      ]
    },
    {
      "cell_type": "markdown",
      "source": [
        "#### `fb_dob`"
      ],
      "metadata": {
        "id": "g0z_ofncExnO"
      }
    },
    {
      "cell_type": "code",
      "source": [
        "len(df.columns)"
      ],
      "metadata": {
        "colab": {
          "base_uri": "https://localhost:8080/"
        },
        "id": "Td5EdiWdhmsl",
        "outputId": "f16ce8ca-f681-47c2-e0f2-f43e29c1ee7f"
      },
      "execution_count": null,
      "outputs": [
        {
          "output_type": "execute_result",
          "data": {
            "text/plain": [
              "27"
            ]
          },
          "metadata": {},
          "execution_count": 280
        }
      ]
    },
    {
      "cell_type": "code",
      "source": [
        "# Remove fb_dob as it has the same meaning of de_age\n",
        "df['fb_dob'].isnull().sum()\n",
        "df.drop(columns=['fb_dob'], axis=0, inplace=True)"
      ],
      "metadata": {
        "id": "0dPEBHpJE52O"
      },
      "execution_count": null,
      "outputs": []
    },
    {
      "cell_type": "markdown",
      "source": [
        "### Continous features"
      ],
      "metadata": {
        "id": "eJ5uxf5CC3GF"
      }
    },
    {
      "cell_type": "code",
      "source": [
        "# Update columns in date to continous columns\n",
        "for col in date_cols:\n",
        "  num_cols.append(col)\n",
        "\n",
        "num_cols = [x for x in num_cols if x in df.columns]"
      ],
      "metadata": {
        "id": "p-4WbH96JDxM"
      },
      "execution_count": null,
      "outputs": []
    },
    {
      "cell_type": "code",
      "source": [
        "df[num_cols].apply(pd.Series.nunique)"
      ],
      "metadata": {
        "colab": {
          "base_uri": "https://localhost:8080/"
        },
        "id": "uMScwGKxBg80",
        "outputId": "eeea2da5-3736-47f1-c5b1-7ff2e5baedaf"
      },
      "execution_count": null,
      "outputs": [
        {
          "output_type": "execute_result",
          "data": {
            "text/plain": [
              "index                          41022\n",
              "de_age                            50\n",
              "de_num_friends                  4531\n",
              "de_monthly_salary                 40\n",
              "de_employment_duration            52\n",
              "ph_total_contacts               1588\n",
              "percent_incoming_nighttime      1983\n",
              "percent_outgoing_daytime        5927\n",
              "duration_incoming_daytime       8087\n",
              "duration_outgoing_daytime       8080\n",
              "percent_incoming_daytime        4286\n",
              "percent_other_calls             5186\n",
              "duration_outgoing_nighttime     5288\n",
              "percent_outgoing_nighttime      3754\n",
              "total_calls                      826\n",
              "duration_incoming_nighttime     4643\n",
              "ph_app_list                      269\n",
              "de_children                        5\n",
              "de_date_joined                   203\n",
              "fb_last_updated_date            1206\n",
              "dtype: int64"
            ]
          },
          "metadata": {},
          "execution_count": 283
        }
      ]
    },
    {
      "cell_type": "markdown",
      "source": [
        "#### Outliers"
      ],
      "metadata": {
        "id": "AVtOfMnTHzZ2"
      }
    },
    {
      "cell_type": "code",
      "source": [
        "# Columns with minus values\n",
        "minus_cols = df.describe().loc[['min']].to_dict().items()\n",
        "tmp = []\n",
        "for k, v in minus_cols:\n",
        "  if v['min'] < 0:\n",
        "    tmp.append(k)\n",
        "minus_cols = tmp"
      ],
      "metadata": {
        "id": "VY-vdoZRIALu"
      },
      "execution_count": null,
      "outputs": []
    },
    {
      "cell_type": "code",
      "source": [
        "# Keep only values >= 0:\n",
        "for col in minus_cols:\n",
        "  df = df.loc[(df[col] >= 0) | (df[col].isnull()), :]"
      ],
      "metadata": {
        "id": "RpIYUWv4im0M"
      },
      "execution_count": null,
      "outputs": []
    },
    {
      "cell_type": "code",
      "source": [
        "len(df)"
      ],
      "metadata": {
        "colab": {
          "base_uri": "https://localhost:8080/"
        },
        "id": "w6kqbqpUBxWt",
        "outputId": "fbfe1980-35a5-46da-a344-79334c95198e"
      },
      "execution_count": null,
      "outputs": [
        {
          "output_type": "execute_result",
          "data": {
            "text/plain": [
              "41015"
            ]
          },
          "metadata": {},
          "execution_count": 286
        }
      ]
    },
    {
      "cell_type": "markdown",
      "source": [
        "View outliers base on Z-Score"
      ],
      "metadata": {
        "id": "q6BjDj_Yo0Bs"
      }
    },
    {
      "cell_type": "code",
      "source": [
        "df2 = df.copy()"
      ],
      "metadata": {
        "id": "zavSasLfF0Ef"
      },
      "execution_count": null,
      "outputs": []
    },
    {
      "cell_type": "code",
      "source": [
        "# Let's try with threshold = 5\n",
        "sum(outlier_view(df[num_cols], 5)['total_outliers'])"
      ],
      "metadata": {
        "colab": {
          "base_uri": "https://localhost:8080/"
        },
        "id": "2RD6AR5p9U_N",
        "outputId": "ce94ad86-b575-41dc-8690-a5a76d041891"
      },
      "execution_count": null,
      "outputs": [
        {
          "output_type": "execute_result",
          "data": {
            "text/plain": [
              "2289"
            ]
          },
          "metadata": {},
          "execution_count": 288
        }
      ]
    },
    {
      "cell_type": "code",
      "source": [
        "# Let's remove outliers out of threshold 4h\n",
        "df = outlier_remove(df, num_cols, 5)\n",
        "len(df)"
      ],
      "metadata": {
        "colab": {
          "base_uri": "https://localhost:8080/"
        },
        "id": "U8d7fRAPsJ3c",
        "outputId": "b3ead481-ab4b-414e-9cba-800a558d93cc"
      },
      "execution_count": null,
      "outputs": [
        {
          "output_type": "execute_result",
          "data": {
            "text/plain": [
              "38763"
            ]
          },
          "metadata": {},
          "execution_count": 289
        }
      ]
    },
    {
      "cell_type": "markdown",
      "source": [
        "#### Missing columns"
      ],
      "metadata": {
        "id": "_L55wGqFHk1m"
      }
    },
    {
      "cell_type": "code",
      "source": [
        "# Missing columns\n",
        "df[num_cols].isna().sum()"
      ],
      "metadata": {
        "colab": {
          "base_uri": "https://localhost:8080/"
        },
        "id": "UIozAyRUDB9M",
        "outputId": "2f229211-007f-432f-c889-cd11b5d26985"
      },
      "execution_count": null,
      "outputs": [
        {
          "output_type": "execute_result",
          "data": {
            "text/plain": [
              "index                             0\n",
              "de_age                            0\n",
              "de_num_friends                    0\n",
              "de_monthly_salary                 0\n",
              "de_employment_duration            0\n",
              "ph_total_contacts                 0\n",
              "percent_incoming_nighttime     2031\n",
              "percent_outgoing_daytime       2031\n",
              "duration_incoming_daytime      2031\n",
              "duration_outgoing_daytime      2031\n",
              "percent_incoming_daytime       2031\n",
              "percent_other_calls            2031\n",
              "duration_outgoing_nighttime    2031\n",
              "percent_outgoing_nighttime     2031\n",
              "total_calls                    2031\n",
              "duration_incoming_nighttime    2031\n",
              "ph_app_list                       0\n",
              "de_children                       0\n",
              "de_date_joined                    0\n",
              "fb_last_updated_date           1407\n",
              "dtype: int64"
            ]
          },
          "metadata": {},
          "execution_count": 290
        }
      ]
    },
    {
      "cell_type": "code",
      "source": [
        "# Missing columns\n",
        "missing_cols = []\n",
        "for k, v in df.isnull().sum().to_dict().items():\n",
        "  if v > 0:\n",
        "    missing_cols.append(k)"
      ],
      "metadata": {
        "id": "CJtZJxRZd7gL"
      },
      "execution_count": null,
      "outputs": []
    },
    {
      "cell_type": "code",
      "source": [
        "missing_cols"
      ],
      "metadata": {
        "colab": {
          "base_uri": "https://localhost:8080/"
        },
        "id": "Zg0jsmi3DUP5",
        "outputId": "b4aeb252-2a91-4575-953c-dd65449f5840"
      },
      "execution_count": null,
      "outputs": [
        {
          "output_type": "execute_result",
          "data": {
            "text/plain": [
              "['fb_last_updated_date',\n",
              " 'percent_incoming_nighttime',\n",
              " 'percent_outgoing_daytime',\n",
              " 'duration_incoming_daytime',\n",
              " 'duration_outgoing_daytime',\n",
              " 'percent_incoming_daytime',\n",
              " 'percent_other_calls',\n",
              " 'duration_outgoing_nighttime',\n",
              " 'percent_outgoing_nighttime',\n",
              " 'total_calls',\n",
              " 'duration_incoming_nighttime']"
            ]
          },
          "metadata": {},
          "execution_count": 292
        }
      ]
    },
    {
      "cell_type": "code",
      "source": [
        "# Let's replace missing values by column mean value\n",
        "for col in missing_cols:\n",
        "  df[col] = df[col].fillna(df[col].mean())"
      ],
      "metadata": {
        "id": "nwzZPORfdE2L"
      },
      "execution_count": null,
      "outputs": []
    },
    {
      "cell_type": "code",
      "source": [
        "# Let's check null values again\n",
        "df[missing_cols].isnull().sum()"
      ],
      "metadata": {
        "colab": {
          "base_uri": "https://localhost:8080/"
        },
        "id": "wrgTDSN8SH5j",
        "outputId": "b431d3eb-0d3f-4181-c371-a0b0ce1ce2b4"
      },
      "execution_count": null,
      "outputs": [
        {
          "output_type": "execute_result",
          "data": {
            "text/plain": [
              "fb_last_updated_date           0\n",
              "percent_incoming_nighttime     0\n",
              "percent_outgoing_daytime       0\n",
              "duration_incoming_daytime      0\n",
              "duration_outgoing_daytime      0\n",
              "percent_incoming_daytime       0\n",
              "percent_other_calls            0\n",
              "duration_outgoing_nighttime    0\n",
              "percent_outgoing_nighttime     0\n",
              "total_calls                    0\n",
              "duration_incoming_nighttime    0\n",
              "dtype: int64"
            ]
          },
          "metadata": {},
          "execution_count": 294
        }
      ]
    },
    {
      "cell_type": "markdown",
      "source": [
        "## Regularization"
      ],
      "metadata": {
        "id": "aGmwUdGJHJlj"
      }
    },
    {
      "cell_type": "code",
      "source": [
        "# Reset index\n",
        "df = df.reset_index().drop(columns=['level_0'])"
      ],
      "metadata": {
        "id": "zyT2X2XVE976"
      },
      "execution_count": null,
      "outputs": []
    },
    {
      "cell_type": "markdown",
      "source": [
        "### Discrete features"
      ],
      "metadata": {
        "id": "ybwj8O17GpfD"
      }
    },
    {
      "cell_type": "code",
      "source": [
        "# Update categorical columns\n",
        "cate_cols = [col for col in cate_cols if col in df.columns]"
      ],
      "metadata": {
        "id": "ysdEBxsSD1Wg"
      },
      "execution_count": null,
      "outputs": []
    },
    {
      "cell_type": "code",
      "source": [
        "# Remove flag_bad as it is our output\n",
        "cate_cols.remove('flag_bad')"
      ],
      "metadata": {
        "id": "M718KxyzNksi"
      },
      "execution_count": null,
      "outputs": []
    },
    {
      "cell_type": "code",
      "source": [
        "df2 = df.copy()"
      ],
      "metadata": {
        "id": "qhowueYjSGmK"
      },
      "execution_count": null,
      "outputs": []
    },
    {
      "cell_type": "markdown",
      "source": [
        "Let's use one-hot encoding for these type of values"
      ],
      "metadata": {
        "id": "Nj6PIWYFD95z"
      }
    },
    {
      "cell_type": "code",
      "source": [
        "# Create a One Hot Coder\n",
        "enc = OneHotEncoder(handle_unknown='ignore')"
      ],
      "metadata": {
        "id": "LkOpZAHLEomg"
      },
      "execution_count": null,
      "outputs": []
    },
    {
      "cell_type": "code",
      "source": [
        "cate_cols"
      ],
      "metadata": {
        "colab": {
          "base_uri": "https://localhost:8080/"
        },
        "id": "SFLI5l1jSW34",
        "outputId": "4de1c89e-a4f2-456c-af11-68c6cdbdc25e"
      },
      "execution_count": null,
      "outputs": [
        {
          "output_type": "execute_result",
          "data": {
            "text/plain": [
              "['brand',\n",
              " 'de_gender',\n",
              " 'de_employment_type',\n",
              " 'de_education',\n",
              " 'de_marital_status']"
            ]
          },
          "metadata": {},
          "execution_count": 300
        }
      ]
    },
    {
      "cell_type": "code",
      "source": [
        "# Encode the data in categorical values\n",
        "df_cate_encoded = enc.fit_transform(df[cate_cols])\n",
        "df_cate_encoded = pd.DataFrame.sparse.from_spmatrix(df_cate_encoded)"
      ],
      "metadata": {
        "id": "5Xr2D7HvH6mq"
      },
      "execution_count": null,
      "outputs": []
    },
    {
      "cell_type": "markdown",
      "source": [
        "### Continous features"
      ],
      "metadata": {
        "id": "e8Irtw7_K-Nv"
      }
    },
    {
      "cell_type": "markdown",
      "source": [
        "Here we use Min-max scaler to standardize our data"
      ],
      "metadata": {
        "id": "aHDlyDxOLFkE"
      }
    },
    {
      "cell_type": "code",
      "source": [
        "# Create a Scaler\n",
        "scaler = MinMaxScaler()"
      ],
      "metadata": {
        "id": "vZcZnebJLAzI"
      },
      "execution_count": null,
      "outputs": []
    },
    {
      "cell_type": "code",
      "source": [
        "# Scale the data\n",
        "df_num_scaled = scaler.fit_transform(df[num_cols])\n",
        "df_num_scaled = pd.DataFrame(df_num_scaled, columns=num_cols)"
      ],
      "metadata": {
        "id": "Xc6nouxlL0xj"
      },
      "execution_count": null,
      "outputs": []
    },
    {
      "cell_type": "markdown",
      "source": [
        "# IV. Modeling"
      ],
      "metadata": {
        "id": "5SNpXpSXNKlw"
      }
    },
    {
      "cell_type": "code",
      "source": [
        "df2 = df.copy()"
      ],
      "metadata": {
        "id": "4bUMudK4OWQK"
      },
      "execution_count": null,
      "outputs": []
    },
    {
      "cell_type": "markdown",
      "source": [
        "## Train-test split"
      ],
      "metadata": {
        "id": "wPJxiHh5PFwc"
      }
    },
    {
      "cell_type": "code",
      "source": [
        "# Final dataset ready to be trained\n",
        "X = pd.concat([df_cate_encoded, df_num_scaled], axis = 1)\n",
        "y = df['flag_bad']"
      ],
      "metadata": {
        "id": "ZQ8cLM7PL6bx"
      },
      "execution_count": null,
      "outputs": []
    },
    {
      "cell_type": "code",
      "source": [
        "# Split to train & test:\n",
        "X_train, X_test, y_train, y_test = train_test_split(X, y, test_size=0.2)"
      ],
      "metadata": {
        "id": "RIH9guOSPNp3"
      },
      "execution_count": null,
      "outputs": []
    },
    {
      "cell_type": "code",
      "source": [
        "# Split to train & validation:\n",
        "X_train, X_val, y_train, y_val = train_test_split(X_train, y_train, test_size=0.2)"
      ],
      "metadata": {
        "id": "_BOYmzjuPokI"
      },
      "execution_count": null,
      "outputs": []
    },
    {
      "cell_type": "markdown",
      "source": [
        "## Train the model"
      ],
      "metadata": {
        "id": "vyG_Sx67NWWb"
      }
    },
    {
      "cell_type": "markdown",
      "source": [
        "### CNN"
      ],
      "metadata": {
        "id": "JHRUrpvRTjVT"
      }
    },
    {
      "cell_type": "code",
      "source": [
        "def create_cnn(units, input_dim):\n",
        "\n",
        "  # Create a sequential\n",
        "  model = Sequential()\n",
        "\n",
        "  # Add the first hidden layer\n",
        "  model.add(Dense(int(units), activation='relu', input_dim=input_dim))\n",
        "\n",
        "  # Add the 2nd hidden layer\n",
        "  unit_2 = units // 2\n",
        "  model.add(Dense(unit_2, activation='relu'))\n",
        "\n",
        "  # Add the 3rd hidden layer\n",
        "  unit_3 = unit_2 // 2\n",
        "  model.add(Dense(unit_3, activation='relu'))\n",
        "\n",
        "  # Add the output layer\n",
        "  model.add(Dense(1, activation='sigmoid'))\n",
        "\n",
        "  # Compile the model\n",
        "  model.compile(optimizer='adam', loss='binary_crossentropy', metrics=['accuracy'])\n",
        "\n",
        "  return model"
      ],
      "metadata": {
        "id": "oKG6YDf2P62c"
      },
      "execution_count": null,
      "outputs": []
    },
    {
      "cell_type": "code",
      "source": [
        "# create model\n",
        "input_dim = len(X_train.columns)\n",
        "\n",
        "units = 128\n",
        "cnn = create_cnn(units, input_dim)\n",
        "cnn.summary()"
      ],
      "metadata": {
        "id": "donzlNJsRLeN",
        "colab": {
          "base_uri": "https://localhost:8080/"
        },
        "outputId": "3b0fc47f-44ca-4e7b-d4f4-52ea3d8ed2d4"
      },
      "execution_count": null,
      "outputs": [
        {
          "output_type": "stream",
          "name": "stdout",
          "text": [
            "Model: \"sequential\"\n",
            "_________________________________________________________________\n",
            " Layer (type)                Output Shape              Param #   \n",
            "=================================================================\n",
            " dense (Dense)               (None, 128)               5120      \n",
            "                                                                 \n",
            " dense_1 (Dense)             (None, 64)                8256      \n",
            "                                                                 \n",
            " dense_2 (Dense)             (None, 32)                2080      \n",
            "                                                                 \n",
            " dense_3 (Dense)             (None, 1)                 33        \n",
            "                                                                 \n",
            "=================================================================\n",
            "Total params: 15,489\n",
            "Trainable params: 15,489\n",
            "Non-trainable params: 0\n",
            "_________________________________________________________________\n"
          ]
        }
      ]
    },
    {
      "cell_type": "code",
      "source": [
        "# Training\n",
        "cnn.fit(X_train, y_train, epochs = 50)"
      ],
      "metadata": {
        "colab": {
          "base_uri": "https://localhost:8080/"
        },
        "id": "NUiiuSkHRV5s",
        "outputId": "1cda4090-bcc4-4e96-faa8-6489b35d58bf"
      },
      "execution_count": null,
      "outputs": [
        {
          "output_type": "stream",
          "name": "stdout",
          "text": [
            "Epoch 1/50\n",
            "776/776 [==============================] - 2s 2ms/step - loss: 0.3789 - accuracy: 0.8710\n",
            "Epoch 2/50\n",
            "776/776 [==============================] - 2s 2ms/step - loss: 0.3672 - accuracy: 0.8718\n",
            "Epoch 3/50\n",
            "776/776 [==============================] - 2s 2ms/step - loss: 0.3634 - accuracy: 0.8718\n",
            "Epoch 4/50\n",
            "776/776 [==============================] - 2s 2ms/step - loss: 0.3614 - accuracy: 0.8718\n",
            "Epoch 5/50\n",
            "776/776 [==============================] - 2s 2ms/step - loss: 0.3580 - accuracy: 0.8719\n",
            "Epoch 6/50\n",
            "776/776 [==============================] - 2s 2ms/step - loss: 0.3561 - accuracy: 0.8718\n",
            "Epoch 7/50\n",
            "776/776 [==============================] - 3s 4ms/step - loss: 0.3540 - accuracy: 0.8724\n",
            "Epoch 8/50\n",
            "776/776 [==============================] - 3s 4ms/step - loss: 0.3522 - accuracy: 0.8721\n",
            "Epoch 9/50\n",
            "776/776 [==============================] - 3s 3ms/step - loss: 0.3495 - accuracy: 0.8726\n",
            "Epoch 10/50\n",
            "776/776 [==============================] - 2s 3ms/step - loss: 0.3471 - accuracy: 0.8732\n",
            "Epoch 11/50\n",
            "776/776 [==============================] - 2s 2ms/step - loss: 0.3443 - accuracy: 0.8730\n",
            "Epoch 12/50\n",
            "776/776 [==============================] - 2s 2ms/step - loss: 0.3426 - accuracy: 0.8737\n",
            "Epoch 13/50\n",
            "776/776 [==============================] - 2s 2ms/step - loss: 0.3386 - accuracy: 0.8754\n",
            "Epoch 14/50\n",
            "776/776 [==============================] - 2s 2ms/step - loss: 0.3353 - accuracy: 0.8761\n",
            "Epoch 15/50\n",
            "776/776 [==============================] - 2s 2ms/step - loss: 0.3314 - accuracy: 0.8765\n",
            "Epoch 16/50\n",
            "776/776 [==============================] - 2s 2ms/step - loss: 0.3281 - accuracy: 0.8785\n",
            "Epoch 17/50\n",
            "776/776 [==============================] - 2s 2ms/step - loss: 0.3254 - accuracy: 0.8785\n",
            "Epoch 18/50\n",
            "776/776 [==============================] - 2s 2ms/step - loss: 0.3227 - accuracy: 0.8790\n",
            "Epoch 19/50\n",
            "776/776 [==============================] - 2s 2ms/step - loss: 0.3163 - accuracy: 0.8810\n",
            "Epoch 20/50\n",
            "776/776 [==============================] - 2s 2ms/step - loss: 0.3137 - accuracy: 0.8822\n",
            "Epoch 21/50\n",
            "776/776 [==============================] - 2s 2ms/step - loss: 0.3096 - accuracy: 0.8836\n",
            "Epoch 22/50\n",
            "776/776 [==============================] - 2s 2ms/step - loss: 0.3055 - accuracy: 0.8852\n",
            "Epoch 23/50\n",
            "776/776 [==============================] - 2s 2ms/step - loss: 0.3016 - accuracy: 0.8876\n",
            "Epoch 24/50\n",
            "776/776 [==============================] - 2s 2ms/step - loss: 0.2988 - accuracy: 0.8900\n",
            "Epoch 25/50\n",
            "776/776 [==============================] - 2s 2ms/step - loss: 0.2940 - accuracy: 0.8912\n",
            "Epoch 26/50\n",
            "776/776 [==============================] - 2s 2ms/step - loss: 0.2892 - accuracy: 0.8922\n",
            "Epoch 27/50\n",
            "776/776 [==============================] - 2s 2ms/step - loss: 0.2858 - accuracy: 0.8939\n",
            "Epoch 28/50\n",
            "776/776 [==============================] - 2s 2ms/step - loss: 0.2824 - accuracy: 0.8939\n",
            "Epoch 29/50\n",
            "776/776 [==============================] - 2s 2ms/step - loss: 0.2788 - accuracy: 0.8956\n",
            "Epoch 30/50\n",
            "776/776 [==============================] - 2s 2ms/step - loss: 0.2747 - accuracy: 0.8977\n",
            "Epoch 31/50\n",
            "776/776 [==============================] - 2s 2ms/step - loss: 0.2706 - accuracy: 0.8990\n",
            "Epoch 32/50\n",
            "776/776 [==============================] - 2s 2ms/step - loss: 0.2667 - accuracy: 0.9005\n",
            "Epoch 33/50\n",
            "776/776 [==============================] - 2s 2ms/step - loss: 0.2635 - accuracy: 0.9009\n",
            "Epoch 34/50\n",
            "776/776 [==============================] - 2s 2ms/step - loss: 0.2597 - accuracy: 0.9021\n",
            "Epoch 35/50\n",
            "776/776 [==============================] - 2s 2ms/step - loss: 0.2561 - accuracy: 0.9032\n",
            "Epoch 36/50\n",
            "776/776 [==============================] - 2s 2ms/step - loss: 0.2515 - accuracy: 0.9066\n",
            "Epoch 37/50\n",
            "776/776 [==============================] - 2s 2ms/step - loss: 0.2480 - accuracy: 0.9071\n",
            "Epoch 38/50\n",
            "776/776 [==============================] - 2s 2ms/step - loss: 0.2465 - accuracy: 0.9083\n",
            "Epoch 39/50\n",
            "776/776 [==============================] - 2s 2ms/step - loss: 0.2418 - accuracy: 0.9093\n",
            "Epoch 40/50\n",
            "776/776 [==============================] - 2s 2ms/step - loss: 0.2374 - accuracy: 0.9124\n",
            "Epoch 41/50\n",
            "776/776 [==============================] - 2s 2ms/step - loss: 0.2350 - accuracy: 0.9116\n",
            "Epoch 42/50\n",
            "776/776 [==============================] - 2s 2ms/step - loss: 0.2319 - accuracy: 0.9143\n",
            "Epoch 43/50\n",
            "776/776 [==============================] - 2s 2ms/step - loss: 0.2279 - accuracy: 0.9150\n",
            "Epoch 44/50\n",
            "776/776 [==============================] - 2s 2ms/step - loss: 0.2269 - accuracy: 0.9149\n",
            "Epoch 45/50\n",
            "776/776 [==============================] - 2s 2ms/step - loss: 0.2226 - accuracy: 0.9174\n",
            "Epoch 46/50\n",
            "776/776 [==============================] - 2s 3ms/step - loss: 0.2174 - accuracy: 0.9182\n",
            "Epoch 47/50\n",
            "776/776 [==============================] - 2s 2ms/step - loss: 0.2152 - accuracy: 0.9191\n",
            "Epoch 48/50\n",
            "776/776 [==============================] - 2s 2ms/step - loss: 0.2119 - accuracy: 0.9204\n",
            "Epoch 49/50\n",
            "776/776 [==============================] - 2s 2ms/step - loss: 0.2124 - accuracy: 0.9207\n",
            "Epoch 50/50\n",
            "776/776 [==============================] - 2s 2ms/step - loss: 0.2084 - accuracy: 0.9221\n"
          ]
        },
        {
          "output_type": "execute_result",
          "data": {
            "text/plain": [
              "<keras.callbacks.History at 0x7f3f9e62ff50>"
            ]
          },
          "metadata": {},
          "execution_count": 88
        }
      ]
    },
    {
      "cell_type": "code",
      "source": [
        "# Accuracy\n",
        "scores = cnn.evaluate(X_train, y_train)\n",
        "print(f'Training accuracy: {round(scores[1]*100,2)}')\n",
        "\n",
        "scores = cnn.evaluate(X_test, y_test)\n",
        "print(f'Testing accuracy: {round(scores[1]*100,2)}')"
      ],
      "metadata": {
        "colab": {
          "base_uri": "https://localhost:8080/"
        },
        "id": "C2mWOtb5Rtld",
        "outputId": "a1c95122-a685-4982-e247-53436fd1f5d4"
      },
      "execution_count": null,
      "outputs": [
        {
          "output_type": "stream",
          "name": "stdout",
          "text": [
            "776/776 [==============================] - 1s 1ms/step - loss: 0.1978 - accuracy: 0.9259\n",
            "Training accuracy: 92.59\n",
            "243/243 [==============================] - 1s 3ms/step - loss: 0.6829 - accuracy: 0.8301\n",
            "Testing accuracy: 83.01\n"
          ]
        }
      ]
    },
    {
      "cell_type": "markdown",
      "source": [
        "### Linear regresion"
      ],
      "metadata": {
        "id": "dzXhl975Tl3B"
      }
    },
    {
      "cell_type": "code",
      "source": [
        "# Create linear regression object\n",
        "regr = LinearRegression()"
      ],
      "metadata": {
        "id": "1-yzUy22VObF"
      },
      "execution_count": null,
      "outputs": []
    },
    {
      "cell_type": "code",
      "source": [
        "# Train the model using the training sets\n",
        "regr.fit(X_train, y_train)"
      ],
      "metadata": {
        "colab": {
          "base_uri": "https://localhost:8080/"
        },
        "id": "w2SqReSjVTww",
        "outputId": "fc1ec92c-914b-4478-87bb-feb4240ed124"
      },
      "execution_count": null,
      "outputs": [
        {
          "output_type": "stream",
          "name": "stderr",
          "text": [
            "/usr/local/lib/python3.7/dist-packages/sklearn/utils/validation.py:1692: FutureWarning: Feature names only support names that are all strings. Got feature names with dtypes: ['int', 'str']. An error will be raised in 1.2.\n",
            "  FutureWarning,\n",
            "/usr/local/lib/python3.7/dist-packages/sklearn/utils/validation.py:625: UserWarning: pandas.DataFrame with sparse columns found.It will be converted to a dense numpy array.\n",
            "  \"pandas.DataFrame with sparse columns found.\"\n"
          ]
        },
        {
          "output_type": "execute_result",
          "data": {
            "text/plain": [
              "LinearRegression()"
            ]
          },
          "metadata": {},
          "execution_count": 96
        }
      ]
    },
    {
      "cell_type": "code",
      "source": [
        "# Predict on Test set\n",
        "y_pred = regr.predict(X_test)"
      ],
      "metadata": {
        "colab": {
          "base_uri": "https://localhost:8080/"
        },
        "id": "qnU1xYGlVc00",
        "outputId": "46097042-4765-43b1-d9c1-2f7abbe8558d"
      },
      "execution_count": null,
      "outputs": [
        {
          "output_type": "stream",
          "name": "stderr",
          "text": [
            "/usr/local/lib/python3.7/dist-packages/sklearn/utils/validation.py:1692: FutureWarning: Feature names only support names that are all strings. Got feature names with dtypes: ['int', 'str']. An error will be raised in 1.2.\n",
            "  FutureWarning,\n",
            "/usr/local/lib/python3.7/dist-packages/sklearn/utils/validation.py:625: UserWarning: pandas.DataFrame with sparse columns found.It will be converted to a dense numpy array.\n",
            "  \"pandas.DataFrame with sparse columns found.\"\n"
          ]
        }
      ]
    },
    {
      "cell_type": "code",
      "source": [
        "# Convert from numpy array to series\n",
        "def conver_to_result(value):\n",
        "  if value < 0.5:\n",
        "    return 0\n",
        "  else:\n",
        "    return 1\n",
        "    \n",
        "y_pred = pd.Series(y_pred).apply(conver_to_result)"
      ],
      "metadata": {
        "id": "nqazV0dOWmpa"
      },
      "execution_count": null,
      "outputs": []
    },
    {
      "cell_type": "code",
      "source": [
        "# Evaluation on Test set\n",
        "print(f'R-squared = {r2_score(y_test, y_pred):.4f}')\n",
        "print(f'RMSE       = {mean_squared_error(y_test, y_pred)**0.5:.2f}')\n",
        "print(f'Accuracy = {round(accuracy_score(y_test, y_pred), 2)}')"
      ],
      "metadata": {
        "colab": {
          "base_uri": "https://localhost:8080/"
        },
        "id": "4aocfonJUj40",
        "outputId": "46d3aa60-5a49-4399-9ed5-5f28bf80a2a2"
      },
      "execution_count": null,
      "outputs": [
        {
          "output_type": "stream",
          "name": "stdout",
          "text": [
            "R-squared = -0.1505\n",
            "RMSE       = 0.36\n",
            "Accuracy = 0.87\n"
          ]
        }
      ]
    },
    {
      "cell_type": "markdown",
      "source": [
        "## Features selection"
      ],
      "metadata": {
        "id": "3T9U_LKmMH9m"
      }
    },
    {
      "cell_type": "markdown",
      "source": [
        "### Heatmap"
      ],
      "metadata": {
        "id": "YmR0hf5WQURi"
      }
    },
    {
      "cell_type": "markdown",
      "source": [
        "Let's plot a heatmap to get a deeper understanding of feature correlation"
      ],
      "metadata": {
        "id": "uW_q-Nq9KCSW"
      }
    },
    {
      "cell_type": "code",
      "source": [
        "corr_matrix = df[num_cols]._get_numeric_data().sample(frac=0.25).corr()\n",
        "\n",
        "# Plot the heatmap of Correlation\n",
        "f, ax = plt.subplots(figsize=(15, 15))\n",
        "sns.heatmap(corr_matrix, vmax=1, annot=True, square=True);\n",
        "plt.show()"
      ],
      "metadata": {
        "colab": {
          "base_uri": "https://localhost:8080/",
          "height": 837
        },
        "id": "FeUJWPf4Jsde",
        "outputId": "960a26c4-e228-4af3-8068-70a2b3b004a4"
      },
      "execution_count": null,
      "outputs": [
        {
          "output_type": "display_data",
          "data": {
            "text/plain": [
              "<Figure size 1080x1080 with 2 Axes>"
            ],
            "image/png": "[encoded data removed]"
          },
          "metadata": {}
        }
      ]
    },
    {
      "cell_type": "markdown",
      "source": [
        "Some features have higher correlation than others: `de_age`, `de_martial_status` and `de_children`. However, it's better to keep these features since the correlation is only around 0.6."
      ],
      "metadata": {
        "id": "9U-S6QYuKJ8o"
      }
    },
    {
      "cell_type": "markdown",
      "source": [
        "### Feature importance with Random Forrest"
      ],
      "metadata": {
        "id": "TlYd4I8WQXe3"
      }
    },
    {
      "cell_type": "code",
      "source": [
        "from sklearn.ensemble import RandomForestRegressor\n",
        "# fit an Extra Trees model to the data\n",
        "rdf = RandomForestRegressor()\n",
        "rdf.fit(df[num_cols], df['flag_bad'])\n",
        "feature_importances = pd.DataFrame(rdf.feature_importances_,\n",
        "                                   index = num_cols,\n",
        "                                   columns=['importance']).sort_values('importance', ascending=False)\n",
        "print(feature_importances)\n",
        "ft = list(feature_importances[:25].index)\n",
        "print(ft)"
      ],
      "metadata": {
        "colab": {
          "base_uri": "https://localhost:8080/"
        },
        "id": "fIMOWrFwQbgj",
        "outputId": "3b76cd13-c718-469c-b885-d5bbc38be2fd"
      },
      "execution_count": null,
      "outputs": [
        {
          "output_type": "stream",
          "name": "stdout",
          "text": [
            "                             importance\n",
            "de_num_friends                 0.081867\n",
            "index                          0.072353\n",
            "fb_last_updated_date           0.069501\n",
            "total_calls                    0.062741\n",
            "ph_app_list                    0.061678\n",
            "de_date_joined                 0.061239\n",
            "percent_other_calls            0.056547\n",
            "percent_incoming_daytime       0.054121\n",
            "percent_outgoing_daytime       0.050763\n",
            "de_age                         0.050625\n",
            "duration_incoming_daytime      0.049522\n",
            "duration_outgoing_daytime      0.049177\n",
            "percent_outgoing_nighttime     0.047379\n",
            "de_employment_duration         0.046435\n",
            "percent_incoming_nighttime     0.038051\n",
            "duration_incoming_nighttime    0.036161\n",
            "duration_outgoing_nighttime    0.034272\n",
            "ph_total_contacts              0.031463\n",
            "de_monthly_salary              0.028859\n",
            "de_children                    0.017246\n",
            "['de_num_friends', 'index', 'fb_last_updated_date', 'total_calls', 'ph_app_list', 'de_date_joined', 'percent_other_calls', 'percent_incoming_daytime', 'percent_outgoing_daytime', 'de_age', 'duration_incoming_daytime', 'duration_outgoing_daytime', 'percent_outgoing_nighttime', 'de_employment_duration', 'percent_incoming_nighttime', 'duration_incoming_nighttime', 'duration_outgoing_nighttime', 'ph_total_contacts', 'de_monthly_salary', 'de_children']\n"
          ]
        }
      ]
    },
    {
      "cell_type": "code",
      "source": [
        "cate_cols"
      ],
      "metadata": {
        "id": "f3qGYaGDX_gk",
        "outputId": "e436fd7c-b324-4400-adce-555a775fe9a6",
        "colab": {
          "base_uri": "https://localhost:8080/"
        }
      },
      "execution_count": null,
      "outputs": [
        {
          "output_type": "execute_result",
          "data": {
            "text/plain": [
              "['brand',\n",
              " 'de_gender',\n",
              " 'de_employment_type',\n",
              " 'de_education',\n",
              " 'de_marital_status']"
            ]
          },
          "metadata": {},
          "execution_count": 313
        }
      ]
    }
  ]
}